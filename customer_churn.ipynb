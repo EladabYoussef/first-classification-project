{
 "cells": [
  {
   "cell_type": "markdown",
   "source": [
    "## importing necessary libraries"
   ],
   "metadata": {
    "collapsed": false
   },
   "id": "e9ead8d04d2ff4ff"
  },
  {
   "cell_type": "code",
   "execution_count": 307,
   "id": "initial_id",
   "metadata": {
    "collapsed": true,
    "ExecuteTime": {
     "end_time": "2024-08-26T13:19:02.821117400Z",
     "start_time": "2024-08-26T13:19:01.955406300Z"
    }
   },
   "outputs": [],
   "source": [
    "import numpy as np\n",
    "import matplotlib.pyplot as plt\n",
    "import pandas as pd\n",
    "import copy"
   ]
  },
  {
   "cell_type": "markdown",
   "source": [
    "## reading and cleaning the dataset"
   ],
   "metadata": {
    "collapsed": false
   },
   "id": "f6581ca320524c1e"
  },
  {
   "cell_type": "code",
   "execution_count": 308,
   "outputs": [
    {
     "name": "stdout",
     "output_type": "stream",
     "text": [
      "<class 'pandas.core.frame.DataFrame'>\n",
      "RangeIndex: 7043 entries, 0 to 7042\n",
      "Data columns (total 20 columns):\n",
      " #   Column            Non-Null Count  Dtype  \n",
      "---  ------            --------------  -----  \n",
      " 0   gender            7043 non-null   object \n",
      " 1   SeniorCitizen     7043 non-null   int64  \n",
      " 2   Partner           7043 non-null   object \n",
      " 3   Dependents        7043 non-null   object \n",
      " 4   tenure            7043 non-null   int64  \n",
      " 5   PhoneService      7043 non-null   object \n",
      " 6   MultipleLines     7043 non-null   object \n",
      " 7   InternetService   7043 non-null   object \n",
      " 8   OnlineSecurity    7043 non-null   object \n",
      " 9   OnlineBackup      7043 non-null   object \n",
      " 10  DeviceProtection  7043 non-null   object \n",
      " 11  TechSupport       7043 non-null   object \n",
      " 12  StreamingTV       7043 non-null   object \n",
      " 13  StreamingMovies   7043 non-null   object \n",
      " 14  Contract          7043 non-null   object \n",
      " 15  PaperlessBilling  7043 non-null   object \n",
      " 16  PaymentMethod     7043 non-null   object \n",
      " 17  MonthlyCharges    7043 non-null   float64\n",
      " 18  TotalCharges      7043 non-null   object \n",
      " 19  Churn             7043 non-null   object \n",
      "dtypes: float64(1), int64(2), object(17)\n",
      "memory usage: 1.1+ MB\n"
     ]
    }
   ],
   "source": [
    "df = pd.read_csv(\"Telco-Customer-Churn.csv\")\n",
    "df.dropna(axis= 0, inplace= True)\n",
    "df.drop(\"customerID\", axis= \"columns\", inplace= True) #remove not useful data\n",
    "df.info()"
   ],
   "metadata": {
    "collapsed": false,
    "ExecuteTime": {
     "end_time": "2024-08-26T13:19:02.988203Z",
     "start_time": "2024-08-26T13:19:01.973957900Z"
    }
   },
   "id": "498f39386fc66c08"
  },
  {
   "cell_type": "markdown",
   "source": [
    "# treat the data and transform it into numerical data"
   ],
   "metadata": {
    "collapsed": false
   },
   "id": "7ba51acf0e3f8d8f"
  },
  {
   "cell_type": "code",
   "execution_count": 309,
   "outputs": [
    {
     "data": {
      "text/plain": "      gender  SeniorCitizen  Partner  Dependents  tenure  PhoneService  \\\n0          0              0        1           0       1             0   \n1          1              0        0           0      34             1   \n2          1              0        0           0       2             1   \n3          1              0        0           0      45             0   \n4          0              0        0           0       2             1   \n...      ...            ...      ...         ...     ...           ...   \n7038       1              0        1           1      24             1   \n7039       0              0        1           1      72             1   \n7040       0              0        1           1      11             0   \n7041       1              1        1           0       4             1   \n7042       1              0        0           0      66             1   \n\n         MultipleLines InternetService  OnlineSecurity  OnlineBackup  \\\n0     No phone service             DSL             0.0           1.0   \n1                   No             DSL             1.0           0.0   \n2                   No             DSL             1.0           1.0   \n3     No phone service             DSL             1.0           0.0   \n4                   No     Fiber optic             0.0           0.0   \n...                ...             ...             ...           ...   \n7038               Yes             DSL             1.0           0.0   \n7039               Yes     Fiber optic             0.0           1.0   \n7040  No phone service             DSL             1.0           0.0   \n7041               Yes     Fiber optic             0.0           0.0   \n7042                No     Fiber optic             1.0           0.0   \n\n      DeviceProtection  TechSupport  StreamingTV  StreamingMovies  \\\n0                  0.0          0.0          0.0              0.0   \n1                  1.0          0.0          0.0              0.0   \n2                  0.0          0.0          0.0              0.0   \n3                  1.0          1.0          0.0              0.0   \n4                  0.0          0.0          0.0              0.0   \n...                ...          ...          ...              ...   \n7038               1.0          1.0          1.0              1.0   \n7039               1.0          0.0          1.0              1.0   \n7040               0.0          0.0          0.0              0.0   \n7041               0.0          0.0          0.0              0.0   \n7042               1.0          1.0          1.0              1.0   \n\n            Contract  PaperlessBilling              PaymentMethod  \\\n0     Month-to-month                 1           Electronic check   \n1           One year                 0               Mailed check   \n2     Month-to-month                 1               Mailed check   \n3           One year                 0  Bank transfer (automatic)   \n4     Month-to-month                 1           Electronic check   \n...              ...               ...                        ...   \n7038        One year                 1               Mailed check   \n7039        One year                 1    Credit card (automatic)   \n7040  Month-to-month                 1           Electronic check   \n7041  Month-to-month                 1               Mailed check   \n7042        Two year                 1  Bank transfer (automatic)   \n\n      MonthlyCharges TotalCharges  Churn  \n0              29.85        29.85      0  \n1              56.95       1889.5      0  \n2              53.85       108.15      1  \n3              42.30      1840.75      0  \n4              70.70       151.65      1  \n...              ...          ...    ...  \n7038           84.80       1990.5      0  \n7039          103.20       7362.9      0  \n7040           29.60       346.45      0  \n7041           74.40        306.6      1  \n7042          105.65       6844.5      0  \n\n[7043 rows x 20 columns]",
      "text/html": "<div>\n<style scoped>\n    .dataframe tbody tr th:only-of-type {\n        vertical-align: middle;\n    }\n\n    .dataframe tbody tr th {\n        vertical-align: top;\n    }\n\n    .dataframe thead th {\n        text-align: right;\n    }\n</style>\n<table border=\"1\" class=\"dataframe\">\n  <thead>\n    <tr style=\"text-align: right;\">\n      <th></th>\n      <th>gender</th>\n      <th>SeniorCitizen</th>\n      <th>Partner</th>\n      <th>Dependents</th>\n      <th>tenure</th>\n      <th>PhoneService</th>\n      <th>MultipleLines</th>\n      <th>InternetService</th>\n      <th>OnlineSecurity</th>\n      <th>OnlineBackup</th>\n      <th>DeviceProtection</th>\n      <th>TechSupport</th>\n      <th>StreamingTV</th>\n      <th>StreamingMovies</th>\n      <th>Contract</th>\n      <th>PaperlessBilling</th>\n      <th>PaymentMethod</th>\n      <th>MonthlyCharges</th>\n      <th>TotalCharges</th>\n      <th>Churn</th>\n    </tr>\n  </thead>\n  <tbody>\n    <tr>\n      <th>0</th>\n      <td>0</td>\n      <td>0</td>\n      <td>1</td>\n      <td>0</td>\n      <td>1</td>\n      <td>0</td>\n      <td>No phone service</td>\n      <td>DSL</td>\n      <td>0.0</td>\n      <td>1.0</td>\n      <td>0.0</td>\n      <td>0.0</td>\n      <td>0.0</td>\n      <td>0.0</td>\n      <td>Month-to-month</td>\n      <td>1</td>\n      <td>Electronic check</td>\n      <td>29.85</td>\n      <td>29.85</td>\n      <td>0</td>\n    </tr>\n    <tr>\n      <th>1</th>\n      <td>1</td>\n      <td>0</td>\n      <td>0</td>\n      <td>0</td>\n      <td>34</td>\n      <td>1</td>\n      <td>No</td>\n      <td>DSL</td>\n      <td>1.0</td>\n      <td>0.0</td>\n      <td>1.0</td>\n      <td>0.0</td>\n      <td>0.0</td>\n      <td>0.0</td>\n      <td>One year</td>\n      <td>0</td>\n      <td>Mailed check</td>\n      <td>56.95</td>\n      <td>1889.5</td>\n      <td>0</td>\n    </tr>\n    <tr>\n      <th>2</th>\n      <td>1</td>\n      <td>0</td>\n      <td>0</td>\n      <td>0</td>\n      <td>2</td>\n      <td>1</td>\n      <td>No</td>\n      <td>DSL</td>\n      <td>1.0</td>\n      <td>1.0</td>\n      <td>0.0</td>\n      <td>0.0</td>\n      <td>0.0</td>\n      <td>0.0</td>\n      <td>Month-to-month</td>\n      <td>1</td>\n      <td>Mailed check</td>\n      <td>53.85</td>\n      <td>108.15</td>\n      <td>1</td>\n    </tr>\n    <tr>\n      <th>3</th>\n      <td>1</td>\n      <td>0</td>\n      <td>0</td>\n      <td>0</td>\n      <td>45</td>\n      <td>0</td>\n      <td>No phone service</td>\n      <td>DSL</td>\n      <td>1.0</td>\n      <td>0.0</td>\n      <td>1.0</td>\n      <td>1.0</td>\n      <td>0.0</td>\n      <td>0.0</td>\n      <td>One year</td>\n      <td>0</td>\n      <td>Bank transfer (automatic)</td>\n      <td>42.30</td>\n      <td>1840.75</td>\n      <td>0</td>\n    </tr>\n    <tr>\n      <th>4</th>\n      <td>0</td>\n      <td>0</td>\n      <td>0</td>\n      <td>0</td>\n      <td>2</td>\n      <td>1</td>\n      <td>No</td>\n      <td>Fiber optic</td>\n      <td>0.0</td>\n      <td>0.0</td>\n      <td>0.0</td>\n      <td>0.0</td>\n      <td>0.0</td>\n      <td>0.0</td>\n      <td>Month-to-month</td>\n      <td>1</td>\n      <td>Electronic check</td>\n      <td>70.70</td>\n      <td>151.65</td>\n      <td>1</td>\n    </tr>\n    <tr>\n      <th>...</th>\n      <td>...</td>\n      <td>...</td>\n      <td>...</td>\n      <td>...</td>\n      <td>...</td>\n      <td>...</td>\n      <td>...</td>\n      <td>...</td>\n      <td>...</td>\n      <td>...</td>\n      <td>...</td>\n      <td>...</td>\n      <td>...</td>\n      <td>...</td>\n      <td>...</td>\n      <td>...</td>\n      <td>...</td>\n      <td>...</td>\n      <td>...</td>\n      <td>...</td>\n    </tr>\n    <tr>\n      <th>7038</th>\n      <td>1</td>\n      <td>0</td>\n      <td>1</td>\n      <td>1</td>\n      <td>24</td>\n      <td>1</td>\n      <td>Yes</td>\n      <td>DSL</td>\n      <td>1.0</td>\n      <td>0.0</td>\n      <td>1.0</td>\n      <td>1.0</td>\n      <td>1.0</td>\n      <td>1.0</td>\n      <td>One year</td>\n      <td>1</td>\n      <td>Mailed check</td>\n      <td>84.80</td>\n      <td>1990.5</td>\n      <td>0</td>\n    </tr>\n    <tr>\n      <th>7039</th>\n      <td>0</td>\n      <td>0</td>\n      <td>1</td>\n      <td>1</td>\n      <td>72</td>\n      <td>1</td>\n      <td>Yes</td>\n      <td>Fiber optic</td>\n      <td>0.0</td>\n      <td>1.0</td>\n      <td>1.0</td>\n      <td>0.0</td>\n      <td>1.0</td>\n      <td>1.0</td>\n      <td>One year</td>\n      <td>1</td>\n      <td>Credit card (automatic)</td>\n      <td>103.20</td>\n      <td>7362.9</td>\n      <td>0</td>\n    </tr>\n    <tr>\n      <th>7040</th>\n      <td>0</td>\n      <td>0</td>\n      <td>1</td>\n      <td>1</td>\n      <td>11</td>\n      <td>0</td>\n      <td>No phone service</td>\n      <td>DSL</td>\n      <td>1.0</td>\n      <td>0.0</td>\n      <td>0.0</td>\n      <td>0.0</td>\n      <td>0.0</td>\n      <td>0.0</td>\n      <td>Month-to-month</td>\n      <td>1</td>\n      <td>Electronic check</td>\n      <td>29.60</td>\n      <td>346.45</td>\n      <td>0</td>\n    </tr>\n    <tr>\n      <th>7041</th>\n      <td>1</td>\n      <td>1</td>\n      <td>1</td>\n      <td>0</td>\n      <td>4</td>\n      <td>1</td>\n      <td>Yes</td>\n      <td>Fiber optic</td>\n      <td>0.0</td>\n      <td>0.0</td>\n      <td>0.0</td>\n      <td>0.0</td>\n      <td>0.0</td>\n      <td>0.0</td>\n      <td>Month-to-month</td>\n      <td>1</td>\n      <td>Mailed check</td>\n      <td>74.40</td>\n      <td>306.6</td>\n      <td>1</td>\n    </tr>\n    <tr>\n      <th>7042</th>\n      <td>1</td>\n      <td>0</td>\n      <td>0</td>\n      <td>0</td>\n      <td>66</td>\n      <td>1</td>\n      <td>No</td>\n      <td>Fiber optic</td>\n      <td>1.0</td>\n      <td>0.0</td>\n      <td>1.0</td>\n      <td>1.0</td>\n      <td>1.0</td>\n      <td>1.0</td>\n      <td>Two year</td>\n      <td>1</td>\n      <td>Bank transfer (automatic)</td>\n      <td>105.65</td>\n      <td>6844.5</td>\n      <td>0</td>\n    </tr>\n  </tbody>\n</table>\n<p>7043 rows × 20 columns</p>\n</div>"
     },
     "execution_count": 309,
     "metadata": {},
     "output_type": "execute_result"
    }
   ],
   "source": [
    "df[\"Churn\"] = df[\"Churn\"].map({\"Yes\": 1 , \"No\": 0})\n",
    "df[\"gender\"] = df[\"gender\"].map({\"Male\": 1 , \"Female\": 0})\n",
    "df[\"Partner\"] = df[\"Partner\"].map({\"Yes\": 1 , \"No\": 0})\n",
    "df[\"Dependents\"] = df[\"Dependents\"].map({\"Yes\": 1 , \"No\": 0})\n",
    "df[\"PhoneService\"] = df[\"PhoneService\"].map({\"Yes\": 1 , \"No\": 0})\n",
    "df[\"OnlineBackup\"] = df[\"OnlineBackup\"].map({\"Yes\": 1 , \"No\": 0})\n",
    "df[\"TechSupport\"] = df[\"TechSupport\"].map({\"Yes\": 1 , \"No\": 0})\n",
    "df[\"DeviceProtection\"] = df[\"DeviceProtection\"].map({\"Yes\": 1 , \"No\": 0})\n",
    "df[\"StreamingTV\"] = df[\"StreamingTV\"].map({\"Yes\": 1 , \"No\": 0})\n",
    "df[\"StreamingMovies\"] = df[\"StreamingMovies\"].map({\"Yes\": 1 , \"No\": 0})\n",
    "df[\"PaperlessBilling\"] = df[\"PaperlessBilling\"].map({\"Yes\": 1 , \"No\": 0})\n",
    "df[\"OnlineSecurity\"] = df[\"OnlineSecurity\"].map({\"Yes\": 1 , \"No\": 0})\n",
    "df"
   ],
   "metadata": {
    "collapsed": false,
    "ExecuteTime": {
     "end_time": "2024-08-26T13:19:03.150745700Z",
     "start_time": "2024-08-26T13:19:02.078489Z"
    }
   },
   "id": "180bd470447dc5df"
  },
  {
   "cell_type": "markdown",
   "source": [
    "## one hotting multicategorical columns and removing highly correlated ones to avoid multicolinearity. and cleaning the data"
   ],
   "metadata": {
    "collapsed": false
   },
   "id": "cf1dac5287334893"
  },
  {
   "cell_type": "code",
   "execution_count": 310,
   "outputs": [],
   "source": [
    "df = pd.get_dummies(df, columns= [\"MultipleLines\", \"InternetService\", \"Contract\", \"PaperlessBilling\", \"PaymentMethod\"], drop_first= True)\n",
    "df = df.apply(pd.to_numeric, errors= 'coerce')\n",
    "bool_cols= df.select_dtypes(include= \"int\").columns\n",
    "df[bool_cols] = df[bool_cols].astype(bool)#converting all ints to bools because they're all 0s and 1s(for memory efficiency)\n",
    "df.dropna(axis= 0, inplace= True)"
   ],
   "metadata": {
    "collapsed": false,
    "ExecuteTime": {
     "end_time": "2024-08-26T13:19:03.181279200Z",
     "start_time": "2024-08-26T13:19:02.179036600Z"
    }
   },
   "id": "8ac1a4a2db351b46"
  },
  {
   "cell_type": "code",
   "execution_count": 311,
   "outputs": [
    {
     "data": {
      "text/plain": "      gender  SeniorCitizen  Partner  Dependents  tenure  PhoneService  \\\n0      False          False     True       False    True         False   \n1       True          False    False       False    True          True   \n2       True          False    False       False    True          True   \n3       True          False    False       False    True         False   \n4      False          False    False       False    True          True   \n...      ...            ...      ...         ...     ...           ...   \n7038    True          False     True        True    True          True   \n7039   False          False     True        True    True          True   \n7040   False          False     True        True    True         False   \n7041    True           True     True       False    True          True   \n7042    True          False    False       False    True          True   \n\n      OnlineSecurity  OnlineBackup  DeviceProtection  TechSupport  ...  \\\n0                0.0           1.0               0.0          0.0  ...   \n1                1.0           0.0               1.0          0.0  ...   \n2                1.0           1.0               0.0          0.0  ...   \n3                1.0           0.0               1.0          1.0  ...   \n4                0.0           0.0               0.0          0.0  ...   \n...              ...           ...               ...          ...  ...   \n7038             1.0           0.0               1.0          1.0  ...   \n7039             0.0           1.0               1.0          0.0  ...   \n7040             1.0           0.0               0.0          0.0  ...   \n7041             0.0           0.0               0.0          0.0  ...   \n7042             1.0           0.0               1.0          1.0  ...   \n\n      MultipleLines_No phone service  MultipleLines_Yes  \\\n0                               True              False   \n1                              False              False   \n2                              False              False   \n3                               True              False   \n4                              False              False   \n...                              ...                ...   \n7038                           False               True   \n7039                           False               True   \n7040                            True              False   \n7041                           False               True   \n7042                           False              False   \n\n      InternetService_Fiber optic  InternetService_No  Contract_One year  \\\n0                           False               False              False   \n1                           False               False               True   \n2                           False               False              False   \n3                           False               False               True   \n4                            True               False              False   \n...                           ...                 ...                ...   \n7038                        False               False               True   \n7039                         True               False               True   \n7040                        False               False              False   \n7041                         True               False              False   \n7042                         True               False              False   \n\n      Contract_Two year  PaperlessBilling_1  \\\n0                 False                True   \n1                 False               False   \n2                 False                True   \n3                 False               False   \n4                 False                True   \n...                 ...                 ...   \n7038              False                True   \n7039              False                True   \n7040              False                True   \n7041              False                True   \n7042               True                True   \n\n      PaymentMethod_Credit card (automatic)  PaymentMethod_Electronic check  \\\n0                                     False                            True   \n1                                     False                           False   \n2                                     False                           False   \n3                                     False                           False   \n4                                     False                            True   \n...                                     ...                             ...   \n7038                                  False                           False   \n7039                                   True                           False   \n7040                                  False                            True   \n7041                                  False                           False   \n7042                                  False                           False   \n\n      PaymentMethod_Mailed check  \n0                          False  \n1                           True  \n2                           True  \n3                          False  \n4                          False  \n...                          ...  \n7038                        True  \n7039                       False  \n7040                       False  \n7041                        True  \n7042                       False  \n\n[5512 rows x 25 columns]",
      "text/html": "<div>\n<style scoped>\n    .dataframe tbody tr th:only-of-type {\n        vertical-align: middle;\n    }\n\n    .dataframe tbody tr th {\n        vertical-align: top;\n    }\n\n    .dataframe thead th {\n        text-align: right;\n    }\n</style>\n<table border=\"1\" class=\"dataframe\">\n  <thead>\n    <tr style=\"text-align: right;\">\n      <th></th>\n      <th>gender</th>\n      <th>SeniorCitizen</th>\n      <th>Partner</th>\n      <th>Dependents</th>\n      <th>tenure</th>\n      <th>PhoneService</th>\n      <th>OnlineSecurity</th>\n      <th>OnlineBackup</th>\n      <th>DeviceProtection</th>\n      <th>TechSupport</th>\n      <th>...</th>\n      <th>MultipleLines_No phone service</th>\n      <th>MultipleLines_Yes</th>\n      <th>InternetService_Fiber optic</th>\n      <th>InternetService_No</th>\n      <th>Contract_One year</th>\n      <th>Contract_Two year</th>\n      <th>PaperlessBilling_1</th>\n      <th>PaymentMethod_Credit card (automatic)</th>\n      <th>PaymentMethod_Electronic check</th>\n      <th>PaymentMethod_Mailed check</th>\n    </tr>\n  </thead>\n  <tbody>\n    <tr>\n      <th>0</th>\n      <td>False</td>\n      <td>False</td>\n      <td>True</td>\n      <td>False</td>\n      <td>True</td>\n      <td>False</td>\n      <td>0.0</td>\n      <td>1.0</td>\n      <td>0.0</td>\n      <td>0.0</td>\n      <td>...</td>\n      <td>True</td>\n      <td>False</td>\n      <td>False</td>\n      <td>False</td>\n      <td>False</td>\n      <td>False</td>\n      <td>True</td>\n      <td>False</td>\n      <td>True</td>\n      <td>False</td>\n    </tr>\n    <tr>\n      <th>1</th>\n      <td>True</td>\n      <td>False</td>\n      <td>False</td>\n      <td>False</td>\n      <td>True</td>\n      <td>True</td>\n      <td>1.0</td>\n      <td>0.0</td>\n      <td>1.0</td>\n      <td>0.0</td>\n      <td>...</td>\n      <td>False</td>\n      <td>False</td>\n      <td>False</td>\n      <td>False</td>\n      <td>True</td>\n      <td>False</td>\n      <td>False</td>\n      <td>False</td>\n      <td>False</td>\n      <td>True</td>\n    </tr>\n    <tr>\n      <th>2</th>\n      <td>True</td>\n      <td>False</td>\n      <td>False</td>\n      <td>False</td>\n      <td>True</td>\n      <td>True</td>\n      <td>1.0</td>\n      <td>1.0</td>\n      <td>0.0</td>\n      <td>0.0</td>\n      <td>...</td>\n      <td>False</td>\n      <td>False</td>\n      <td>False</td>\n      <td>False</td>\n      <td>False</td>\n      <td>False</td>\n      <td>True</td>\n      <td>False</td>\n      <td>False</td>\n      <td>True</td>\n    </tr>\n    <tr>\n      <th>3</th>\n      <td>True</td>\n      <td>False</td>\n      <td>False</td>\n      <td>False</td>\n      <td>True</td>\n      <td>False</td>\n      <td>1.0</td>\n      <td>0.0</td>\n      <td>1.0</td>\n      <td>1.0</td>\n      <td>...</td>\n      <td>True</td>\n      <td>False</td>\n      <td>False</td>\n      <td>False</td>\n      <td>True</td>\n      <td>False</td>\n      <td>False</td>\n      <td>False</td>\n      <td>False</td>\n      <td>False</td>\n    </tr>\n    <tr>\n      <th>4</th>\n      <td>False</td>\n      <td>False</td>\n      <td>False</td>\n      <td>False</td>\n      <td>True</td>\n      <td>True</td>\n      <td>0.0</td>\n      <td>0.0</td>\n      <td>0.0</td>\n      <td>0.0</td>\n      <td>...</td>\n      <td>False</td>\n      <td>False</td>\n      <td>True</td>\n      <td>False</td>\n      <td>False</td>\n      <td>False</td>\n      <td>True</td>\n      <td>False</td>\n      <td>True</td>\n      <td>False</td>\n    </tr>\n    <tr>\n      <th>...</th>\n      <td>...</td>\n      <td>...</td>\n      <td>...</td>\n      <td>...</td>\n      <td>...</td>\n      <td>...</td>\n      <td>...</td>\n      <td>...</td>\n      <td>...</td>\n      <td>...</td>\n      <td>...</td>\n      <td>...</td>\n      <td>...</td>\n      <td>...</td>\n      <td>...</td>\n      <td>...</td>\n      <td>...</td>\n      <td>...</td>\n      <td>...</td>\n      <td>...</td>\n      <td>...</td>\n    </tr>\n    <tr>\n      <th>7038</th>\n      <td>True</td>\n      <td>False</td>\n      <td>True</td>\n      <td>True</td>\n      <td>True</td>\n      <td>True</td>\n      <td>1.0</td>\n      <td>0.0</td>\n      <td>1.0</td>\n      <td>1.0</td>\n      <td>...</td>\n      <td>False</td>\n      <td>True</td>\n      <td>False</td>\n      <td>False</td>\n      <td>True</td>\n      <td>False</td>\n      <td>True</td>\n      <td>False</td>\n      <td>False</td>\n      <td>True</td>\n    </tr>\n    <tr>\n      <th>7039</th>\n      <td>False</td>\n      <td>False</td>\n      <td>True</td>\n      <td>True</td>\n      <td>True</td>\n      <td>True</td>\n      <td>0.0</td>\n      <td>1.0</td>\n      <td>1.0</td>\n      <td>0.0</td>\n      <td>...</td>\n      <td>False</td>\n      <td>True</td>\n      <td>True</td>\n      <td>False</td>\n      <td>True</td>\n      <td>False</td>\n      <td>True</td>\n      <td>True</td>\n      <td>False</td>\n      <td>False</td>\n    </tr>\n    <tr>\n      <th>7040</th>\n      <td>False</td>\n      <td>False</td>\n      <td>True</td>\n      <td>True</td>\n      <td>True</td>\n      <td>False</td>\n      <td>1.0</td>\n      <td>0.0</td>\n      <td>0.0</td>\n      <td>0.0</td>\n      <td>...</td>\n      <td>True</td>\n      <td>False</td>\n      <td>False</td>\n      <td>False</td>\n      <td>False</td>\n      <td>False</td>\n      <td>True</td>\n      <td>False</td>\n      <td>True</td>\n      <td>False</td>\n    </tr>\n    <tr>\n      <th>7041</th>\n      <td>True</td>\n      <td>True</td>\n      <td>True</td>\n      <td>False</td>\n      <td>True</td>\n      <td>True</td>\n      <td>0.0</td>\n      <td>0.0</td>\n      <td>0.0</td>\n      <td>0.0</td>\n      <td>...</td>\n      <td>False</td>\n      <td>True</td>\n      <td>True</td>\n      <td>False</td>\n      <td>False</td>\n      <td>False</td>\n      <td>True</td>\n      <td>False</td>\n      <td>False</td>\n      <td>True</td>\n    </tr>\n    <tr>\n      <th>7042</th>\n      <td>True</td>\n      <td>False</td>\n      <td>False</td>\n      <td>False</td>\n      <td>True</td>\n      <td>True</td>\n      <td>1.0</td>\n      <td>0.0</td>\n      <td>1.0</td>\n      <td>1.0</td>\n      <td>...</td>\n      <td>False</td>\n      <td>False</td>\n      <td>True</td>\n      <td>False</td>\n      <td>False</td>\n      <td>True</td>\n      <td>True</td>\n      <td>False</td>\n      <td>False</td>\n      <td>False</td>\n    </tr>\n  </tbody>\n</table>\n<p>5512 rows × 25 columns</p>\n</div>"
     },
     "execution_count": 311,
     "metadata": {},
     "output_type": "execute_result"
    }
   ],
   "source": [
    "df"
   ],
   "metadata": {
    "collapsed": false,
    "ExecuteTime": {
     "end_time": "2024-08-26T13:19:03.257808500Z",
     "start_time": "2024-08-26T13:19:02.244053500Z"
    }
   },
   "id": "1c8fadabc1b03ed8"
  },
  {
   "cell_type": "markdown",
   "source": [
    "## making sure all the data is numerical"
   ],
   "metadata": {
    "collapsed": false
   },
   "id": "4690bb82cd67f464"
  },
  {
   "cell_type": "code",
   "execution_count": 312,
   "outputs": [
    {
     "name": "stdout",
     "output_type": "stream",
     "text": [
      "<class 'pandas.core.frame.DataFrame'>\n",
      "Index: 5512 entries, 0 to 7042\n",
      "Data columns (total 25 columns):\n",
      " #   Column                                 Non-Null Count  Dtype  \n",
      "---  ------                                 --------------  -----  \n",
      " 0   gender                                 5512 non-null   bool   \n",
      " 1   SeniorCitizen                          5512 non-null   bool   \n",
      " 2   Partner                                5512 non-null   bool   \n",
      " 3   Dependents                             5512 non-null   bool   \n",
      " 4   tenure                                 5512 non-null   bool   \n",
      " 5   PhoneService                           5512 non-null   bool   \n",
      " 6   OnlineSecurity                         5512 non-null   float64\n",
      " 7   OnlineBackup                           5512 non-null   float64\n",
      " 8   DeviceProtection                       5512 non-null   float64\n",
      " 9   TechSupport                            5512 non-null   float64\n",
      " 10  StreamingTV                            5512 non-null   float64\n",
      " 11  StreamingMovies                        5512 non-null   float64\n",
      " 12  MonthlyCharges                         5512 non-null   float64\n",
      " 13  TotalCharges                           5512 non-null   float64\n",
      " 14  Churn                                  5512 non-null   bool   \n",
      " 15  MultipleLines_No phone service         5512 non-null   bool   \n",
      " 16  MultipleLines_Yes                      5512 non-null   bool   \n",
      " 17  InternetService_Fiber optic            5512 non-null   bool   \n",
      " 18  InternetService_No                     5512 non-null   bool   \n",
      " 19  Contract_One year                      5512 non-null   bool   \n",
      " 20  Contract_Two year                      5512 non-null   bool   \n",
      " 21  PaperlessBilling_1                     5512 non-null   bool   \n",
      " 22  PaymentMethod_Credit card (automatic)  5512 non-null   bool   \n",
      " 23  PaymentMethod_Electronic check         5512 non-null   bool   \n",
      " 24  PaymentMethod_Mailed check             5512 non-null   bool   \n",
      "dtypes: bool(17), float64(8)\n",
      "memory usage: 479.1 KB\n"
     ]
    }
   ],
   "source": [
    "df.info()"
   ],
   "metadata": {
    "collapsed": false,
    "ExecuteTime": {
     "end_time": "2024-08-26T13:19:03.353858900Z",
     "start_time": "2024-08-26T13:19:02.304563Z"
    }
   },
   "id": "ce5c03ba6b1bbb86"
  },
  {
   "cell_type": "markdown",
   "source": [
    "## visualising correlation between features"
   ],
   "metadata": {
    "collapsed": false
   },
   "id": "a1a22918068e5b86"
  },
  {
   "cell_type": "code",
   "execution_count": 313,
   "outputs": [
    {
     "data": {
      "text/plain": "                                         gender  SeniorCitizen   Partner  \\\ngender                                 1.000000      -0.005245  0.028197   \nSeniorCitizen                         -0.005245       1.000000  0.018216   \nPartner                                0.028197       0.018216  1.000000   \nDependents                             0.013940      -0.207502  0.422281   \ntenure                                      NaN            NaN       NaN   \nPhoneService                          -0.009551       0.042203  0.021149   \nOnlineSecurity                        -0.017665      -0.110155  0.171581   \nOnlineBackup                          -0.013786      -0.003253  0.173154   \nDeviceProtection                       0.001218      -0.011162  0.187386   \nTechSupport                           -0.008291      -0.135289  0.144021   \nStreamingTV                           -0.006400       0.034150  0.154387   \nStreamingMovies                       -0.010098       0.050055  0.146731   \nMonthlyCharges                        -0.017336       0.129703  0.166292   \nTotalCharges                           0.003522       0.035950  0.368531   \nChurn                                 -0.008608       0.120978 -0.161626   \nMultipleLines_No phone service         0.009551      -0.042203 -0.021149   \nMultipleLines_Yes                     -0.006215       0.114462  0.139027   \nInternetService_Fiber optic           -0.011461       0.200824  0.001406   \nInternetService_No                          NaN            NaN       NaN   \nContract_One year                     -0.000292      -0.051475  0.105792   \nContract_Two year                      0.004962      -0.100878  0.238660   \nPaperlessBilling_1                    -0.009558       0.118466 -0.017570   \nPaymentMethod_Credit card (automatic) -0.000090      -0.033569  0.094177   \nPaymentMethod_Electronic check         0.001306       0.134855 -0.101571   \nPaymentMethod_Mailed check             0.011455      -0.114798 -0.095011   \n\n                                       Dependents  tenure  PhoneService  \\\ngender                                   0.013940     NaN     -0.009551   \nSeniorCitizen                           -0.207502     NaN      0.042203   \nPartner                                  0.422281     NaN      0.021149   \nDependents                               1.000000     NaN     -0.029538   \ntenure                                        NaN     NaN           NaN   \nPhoneService                            -0.029538     NaN      1.000000   \nOnlineSecurity                           0.157478     NaN     -0.037132   \nOnlineBackup                             0.096695     NaN      0.014632   \nDeviceProtection                         0.084184     NaN     -0.005223   \nTechSupport                              0.136108     NaN     -0.040368   \nStreamingTV                              0.052660     NaN      0.055687   \nStreamingMovies                          0.025177     NaN      0.042939   \nMonthlyCharges                          -0.014244     NaN      0.596436   \nTotalCharges                             0.138261     NaN      0.195745   \nChurn                                   -0.147970     NaN      0.055215   \nMultipleLines_No phone service           0.029538     NaN     -1.000000   \nMultipleLines_Yes                       -0.012165     NaN      0.357971   \nInternetService_Fiber optic             -0.131841     NaN      0.424662   \nInternetService_No                            NaN     NaN           NaN   \nContract_One year                        0.086979     NaN     -0.011264   \nContract_Two year                        0.171472     NaN     -0.041017   \nPaperlessBilling_1                      -0.090832     NaN      0.086362   \nPaymentMethod_Credit card (automatic)    0.078273     NaN     -0.008304   \nPaymentMethod_Electronic check          -0.135462     NaN      0.056949   \nPaymentMethod_Mailed check               0.021998     NaN     -0.078408   \n\n                                       OnlineSecurity  OnlineBackup  \\\ngender                                      -0.017665     -0.013786   \nSeniorCitizen                               -0.110155     -0.003253   \nPartner                                      0.171581      0.173154   \nDependents                                   0.157478      0.096695   \ntenure                                            NaN           NaN   \nPhoneService                                -0.037132      0.014632   \nOnlineSecurity                               1.000000      0.179488   \nOnlineBackup                                 0.179488      1.000000   \nDeviceProtection                             0.170099      0.185021   \nTechSupport                                  0.273270      0.190381   \nStreamingTV                                  0.043613      0.146821   \nStreamingMovies                              0.056238      0.137064   \nMonthlyCharges                               0.069771      0.252683   \nTotalCharges                                 0.331783      0.431750   \nChurn                                       -0.280508     -0.195758   \nMultipleLines_No phone service               0.037132     -0.014632   \nMultipleLines_Yes                            0.033684      0.147274   \nInternetService_Fiber optic                 -0.222298     -0.014056   \nInternetService_No                                NaN           NaN   \nContract_One year                            0.137746      0.122254   \nContract_Two year                            0.343595      0.257787   \nPaperlessBilling_1                          -0.139195      0.006299   \nPaymentMethod_Credit card (automatic)        0.139150      0.111449   \nPaymentMethod_Electronic check              -0.238458     -0.127821   \nPaymentMethod_Mailed check                   0.036515     -0.073532   \n\n                                       DeviceProtection  TechSupport  ...  \\\ngender                                         0.001218    -0.008291  ...   \nSeniorCitizen                                 -0.011162    -0.135289  ...   \nPartner                                        0.187386     0.144021  ...   \nDependents                                     0.084184     0.136108  ...   \ntenure                                              NaN          NaN  ...   \nPhoneService                                  -0.005223    -0.040368  ...   \nOnlineSecurity                                 0.170099     0.273270  ...   \nOnlineBackup                                   0.185021     0.190381  ...   \nDeviceProtection                               1.000000     0.235564  ...   \nTechSupport                                    0.235564     1.000000  ...   \nStreamingTV                                    0.275900     0.161312  ...   \nStreamingMovies                                0.289547     0.163271  ...   \nMonthlyCharges                                 0.322484     0.135067  ...   \nTotalCharges                                   0.446978     0.354257  ...   \nChurn                                         -0.176806    -0.274112  ...   \nMultipleLines_No phone service                 0.005223     0.040368  ...   \nMultipleLines_Yes                              0.146834     0.035166  ...   \nInternetService_Fiber optic                   -0.000848    -0.211913  ...   \nInternetService_No                                  NaN          NaN  ...   \nContract_One year                              0.145464     0.132677  ...   \nContract_Two year                              0.328887     0.408903  ...   \nPaperlessBilling_1                            -0.022803    -0.088187  ...   \nPaymentMethod_Credit card (automatic)          0.136819     0.141169  ...   \nPaymentMethod_Electronic check                -0.130950    -0.242566  ...   \nPaymentMethod_Mailed check                    -0.092512     0.031326  ...   \n\n                                       MultipleLines_No phone service  \\\ngender                                                       0.009551   \nSeniorCitizen                                               -0.042203   \nPartner                                                     -0.021149   \nDependents                                                   0.029538   \ntenure                                                            NaN   \nPhoneService                                                -1.000000   \nOnlineSecurity                                               0.037132   \nOnlineBackup                                                -0.014632   \nDeviceProtection                                             0.005223   \nTechSupport                                                  0.040368   \nStreamingTV                                                 -0.055687   \nStreamingMovies                                             -0.042939   \nMonthlyCharges                                              -0.596436   \nTotalCharges                                                -0.195745   \nChurn                                                       -0.055215   \nMultipleLines_No phone service                               1.000000   \nMultipleLines_Yes                                           -0.357971   \nInternetService_Fiber optic                                 -0.424662   \nInternetService_No                                                NaN   \nContract_One year                                            0.011264   \nContract_Two year                                            0.041017   \nPaperlessBilling_1                                          -0.086362   \nPaymentMethod_Credit card (automatic)                        0.008304   \nPaymentMethod_Electronic check                              -0.056949   \nPaymentMethod_Mailed check                                   0.078408   \n\n                                       MultipleLines_Yes  \\\ngender                                         -0.006215   \nSeniorCitizen                                   0.114462   \nPartner                                         0.139027   \nDependents                                     -0.012165   \ntenure                                               NaN   \nPhoneService                                    0.357971   \nOnlineSecurity                                  0.033684   \nOnlineBackup                                    0.147274   \nDeviceProtection                                0.146834   \nTechSupport                                     0.035166   \nStreamingTV                                     0.209092   \nStreamingMovies                                 0.210264   \nMonthlyCharges                                  0.549294   \nTotalCharges                                    0.446504   \nChurn                                           0.002414   \nMultipleLines_No phone service                 -0.357971   \nMultipleLines_Yes                               1.000000   \nInternetService_Fiber optic                     0.338555   \nInternetService_No                                   NaN   \nContract_One year                               0.021252   \nContract_Two year                               0.127208   \nPaperlessBilling_1                              0.110654   \nPaymentMethod_Credit card (automatic)           0.057253   \nPaymentMethod_Electronic check                  0.025135   \nPaymentMethod_Mailed check                     -0.176591   \n\n                                       InternetService_Fiber optic  \\\ngender                                                   -0.011461   \nSeniorCitizen                                             0.200824   \nPartner                                                   0.001406   \nDependents                                               -0.131841   \ntenure                                                         NaN   \nPhoneService                                              0.424662   \nOnlineSecurity                                           -0.222298   \nOnlineBackup                                             -0.014056   \nDeviceProtection                                         -0.000848   \nTechSupport                                              -0.211913   \nStreamingTV                                               0.169519   \nStreamingMovies                                           0.158724   \nMonthlyCharges                                            0.756062   \nTotalCharges                                              0.228664   \nChurn                                                     0.243811   \nMultipleLines_No phone service                           -0.424662   \nMultipleLines_Yes                                         0.338555   \nInternetService_Fiber optic                               1.000000   \nInternetService_No                                             NaN   \nContract_One year                                        -0.076528   \nContract_Two year                                        -0.150629   \nPaperlessBilling_1                                        0.237285   \nPaymentMethod_Credit card (automatic)                    -0.063455   \nPaymentMethod_Electronic check                            0.249442   \nPaymentMethod_Mailed check                               -0.230873   \n\n                                       InternetService_No  Contract_One year  \\\ngender                                                NaN          -0.000292   \nSeniorCitizen                                         NaN          -0.051475   \nPartner                                               NaN           0.105792   \nDependents                                            NaN           0.086979   \ntenure                                                NaN                NaN   \nPhoneService                                          NaN          -0.011264   \nOnlineSecurity                                        NaN           0.137746   \nOnlineBackup                                          NaN           0.122254   \nDeviceProtection                                      NaN           0.145464   \nTechSupport                                           NaN           0.132677   \nStreamingTV                                           NaN           0.097915   \nStreamingMovies                                       NaN           0.101853   \nMonthlyCharges                                        NaN           0.062040   \nTotalCharges                                          NaN           0.233123   \nChurn                                                 NaN          -0.190665   \nMultipleLines_No phone service                        NaN           0.011264   \nMultipleLines_Yes                                     NaN           0.021252   \nInternetService_Fiber optic                           NaN          -0.076528   \nInternetService_No                                    NaN                NaN   \nContract_One year                                     NaN           1.000000   \nContract_Two year                                     NaN          -0.243743   \nPaperlessBilling_1                                    NaN          -0.046450   \nPaymentMethod_Credit card (automatic)                 NaN           0.090824   \nPaymentMethod_Electronic check                        NaN          -0.128308   \nPaymentMethod_Mailed check                            NaN          -0.002286   \n\n                                       Contract_Two year  PaperlessBilling_1  \\\ngender                                          0.004962           -0.009558   \nSeniorCitizen                                  -0.100878            0.118466   \nPartner                                         0.238660           -0.017570   \nDependents                                      0.171472           -0.090832   \ntenure                                               NaN                 NaN   \nPhoneService                                   -0.041017            0.086362   \nOnlineSecurity                                  0.343595           -0.139195   \nOnlineBackup                                    0.257787            0.006299   \nDeviceProtection                                0.328887           -0.022803   \nTechSupport                                     0.408903           -0.088187   \nStreamingTV                                     0.218975            0.118822   \nStreamingMovies                                 0.225090            0.101048   \nMonthlyCharges                                  0.167079            0.195039   \nTotalCharges                                    0.534382            0.047122   \nChurn                                          -0.289471            0.142987   \nMultipleLines_No phone service                  0.041017           -0.086362   \nMultipleLines_Yes                               0.127208            0.110654   \nInternetService_Fiber optic                    -0.150629            0.237285   \nInternetService_No                                   NaN                 NaN   \nContract_One year                              -0.243743           -0.046450   \nContract_Two year                               1.000000           -0.098165   \nPaperlessBilling_1                             -0.098165            1.000000   \nPaymentMethod_Credit card (automatic)           0.182763           -0.018617   \nPaymentMethod_Electronic check                 -0.261335            0.139606   \nPaymentMethod_Mailed check                     -0.047955           -0.126481   \n\n                                       PaymentMethod_Credit card (automatic)  \\\ngender                                                             -0.000090   \nSeniorCitizen                                                      -0.033569   \nPartner                                                             0.094177   \nDependents                                                          0.078273   \ntenure                                                                   NaN   \nPhoneService                                                       -0.008304   \nOnlineSecurity                                                      0.139150   \nOnlineBackup                                                        0.111449   \nDeviceProtection                                                    0.136819   \nTechSupport                                                         0.141169   \nStreamingTV                                                         0.050667   \nStreamingMovies                                                     0.061203   \nMonthlyCharges                                                      0.052878   \nTotalCharges                                                        0.211505   \nChurn                                                              -0.147738   \nMultipleLines_No phone service                                      0.008304   \nMultipleLines_Yes                                                   0.057253   \nInternetService_Fiber optic                                        -0.063455   \nInternetService_No                                                       NaN   \nContract_One year                                                   0.090824   \nContract_Two year                                                   0.182763   \nPaperlessBilling_1                                                 -0.018617   \nPaymentMethod_Credit card (automatic)                               1.000000   \nPaymentMethod_Electronic check                                     -0.434649   \nPaymentMethod_Mailed check                                         -0.227008   \n\n                                       PaymentMethod_Electronic check  \\\ngender                                                       0.001306   \nSeniorCitizen                                                0.134855   \nPartner                                                     -0.101571   \nDependents                                                  -0.135462   \ntenure                                                            NaN   \nPhoneService                                                 0.056949   \nOnlineSecurity                                              -0.238458   \nOnlineBackup                                                -0.127821   \nDeviceProtection                                            -0.130950   \nTechSupport                                                 -0.242566   \nStreamingTV                                                  0.031815   \nStreamingMovies                                              0.021917   \nMonthlyCharges                                               0.090322   \nTotalCharges                                                -0.194990   \nChurn                                                        0.270623   \nMultipleLines_No phone service                              -0.056949   \nMultipleLines_Yes                                            0.025135   \nInternetService_Fiber optic                                  0.249442   \nInternetService_No                                                NaN   \nContract_One year                                           -0.128308   \nContract_Two year                                           -0.261335   \nPaperlessBilling_1                                           0.139606   \nPaymentMethod_Credit card (automatic)                       -0.434649   \nPaymentMethod_Electronic check                               1.000000   \nPaymentMethod_Mailed check                                  -0.358359   \n\n                                       PaymentMethod_Mailed check  \ngender                                                   0.011455  \nSeniorCitizen                                           -0.114798  \nPartner                                                 -0.095011  \nDependents                                               0.021998  \ntenure                                                        NaN  \nPhoneService                                            -0.078408  \nOnlineSecurity                                           0.036515  \nOnlineBackup                                            -0.073532  \nDeviceProtection                                        -0.092512  \nTechSupport                                              0.031326  \nStreamingTV                                             -0.164462  \nStreamingMovies                                         -0.166842  \nMonthlyCharges                                          -0.260695  \nTotalCharges                                            -0.216225  \nChurn                                                   -0.042573  \nMultipleLines_No phone service                           0.078408  \nMultipleLines_Yes                                       -0.176591  \nInternetService_Fiber optic                             -0.230873  \nInternetService_No                                            NaN  \nContract_One year                                       -0.002286  \nContract_Two year                                       -0.047955  \nPaperlessBilling_1                                      -0.126481  \nPaymentMethod_Credit card (automatic)                   -0.227008  \nPaymentMethod_Electronic check                          -0.358359  \nPaymentMethod_Mailed check                               1.000000  \n\n[25 rows x 25 columns]",
      "text/html": "<div>\n<style scoped>\n    .dataframe tbody tr th:only-of-type {\n        vertical-align: middle;\n    }\n\n    .dataframe tbody tr th {\n        vertical-align: top;\n    }\n\n    .dataframe thead th {\n        text-align: right;\n    }\n</style>\n<table border=\"1\" class=\"dataframe\">\n  <thead>\n    <tr style=\"text-align: right;\">\n      <th></th>\n      <th>gender</th>\n      <th>SeniorCitizen</th>\n      <th>Partner</th>\n      <th>Dependents</th>\n      <th>tenure</th>\n      <th>PhoneService</th>\n      <th>OnlineSecurity</th>\n      <th>OnlineBackup</th>\n      <th>DeviceProtection</th>\n      <th>TechSupport</th>\n      <th>...</th>\n      <th>MultipleLines_No phone service</th>\n      <th>MultipleLines_Yes</th>\n      <th>InternetService_Fiber optic</th>\n      <th>InternetService_No</th>\n      <th>Contract_One year</th>\n      <th>Contract_Two year</th>\n      <th>PaperlessBilling_1</th>\n      <th>PaymentMethod_Credit card (automatic)</th>\n      <th>PaymentMethod_Electronic check</th>\n      <th>PaymentMethod_Mailed check</th>\n    </tr>\n  </thead>\n  <tbody>\n    <tr>\n      <th>gender</th>\n      <td>1.000000</td>\n      <td>-0.005245</td>\n      <td>0.028197</td>\n      <td>0.013940</td>\n      <td>NaN</td>\n      <td>-0.009551</td>\n      <td>-0.017665</td>\n      <td>-0.013786</td>\n      <td>0.001218</td>\n      <td>-0.008291</td>\n      <td>...</td>\n      <td>0.009551</td>\n      <td>-0.006215</td>\n      <td>-0.011461</td>\n      <td>NaN</td>\n      <td>-0.000292</td>\n      <td>0.004962</td>\n      <td>-0.009558</td>\n      <td>-0.000090</td>\n      <td>0.001306</td>\n      <td>0.011455</td>\n    </tr>\n    <tr>\n      <th>SeniorCitizen</th>\n      <td>-0.005245</td>\n      <td>1.000000</td>\n      <td>0.018216</td>\n      <td>-0.207502</td>\n      <td>NaN</td>\n      <td>0.042203</td>\n      <td>-0.110155</td>\n      <td>-0.003253</td>\n      <td>-0.011162</td>\n      <td>-0.135289</td>\n      <td>...</td>\n      <td>-0.042203</td>\n      <td>0.114462</td>\n      <td>0.200824</td>\n      <td>NaN</td>\n      <td>-0.051475</td>\n      <td>-0.100878</td>\n      <td>0.118466</td>\n      <td>-0.033569</td>\n      <td>0.134855</td>\n      <td>-0.114798</td>\n    </tr>\n    <tr>\n      <th>Partner</th>\n      <td>0.028197</td>\n      <td>0.018216</td>\n      <td>1.000000</td>\n      <td>0.422281</td>\n      <td>NaN</td>\n      <td>0.021149</td>\n      <td>0.171581</td>\n      <td>0.173154</td>\n      <td>0.187386</td>\n      <td>0.144021</td>\n      <td>...</td>\n      <td>-0.021149</td>\n      <td>0.139027</td>\n      <td>0.001406</td>\n      <td>NaN</td>\n      <td>0.105792</td>\n      <td>0.238660</td>\n      <td>-0.017570</td>\n      <td>0.094177</td>\n      <td>-0.101571</td>\n      <td>-0.095011</td>\n    </tr>\n    <tr>\n      <th>Dependents</th>\n      <td>0.013940</td>\n      <td>-0.207502</td>\n      <td>0.422281</td>\n      <td>1.000000</td>\n      <td>NaN</td>\n      <td>-0.029538</td>\n      <td>0.157478</td>\n      <td>0.096695</td>\n      <td>0.084184</td>\n      <td>0.136108</td>\n      <td>...</td>\n      <td>0.029538</td>\n      <td>-0.012165</td>\n      <td>-0.131841</td>\n      <td>NaN</td>\n      <td>0.086979</td>\n      <td>0.171472</td>\n      <td>-0.090832</td>\n      <td>0.078273</td>\n      <td>-0.135462</td>\n      <td>0.021998</td>\n    </tr>\n    <tr>\n      <th>tenure</th>\n      <td>NaN</td>\n      <td>NaN</td>\n      <td>NaN</td>\n      <td>NaN</td>\n      <td>NaN</td>\n      <td>NaN</td>\n      <td>NaN</td>\n      <td>NaN</td>\n      <td>NaN</td>\n      <td>NaN</td>\n      <td>...</td>\n      <td>NaN</td>\n      <td>NaN</td>\n      <td>NaN</td>\n      <td>NaN</td>\n      <td>NaN</td>\n      <td>NaN</td>\n      <td>NaN</td>\n      <td>NaN</td>\n      <td>NaN</td>\n      <td>NaN</td>\n    </tr>\n    <tr>\n      <th>PhoneService</th>\n      <td>-0.009551</td>\n      <td>0.042203</td>\n      <td>0.021149</td>\n      <td>-0.029538</td>\n      <td>NaN</td>\n      <td>1.000000</td>\n      <td>-0.037132</td>\n      <td>0.014632</td>\n      <td>-0.005223</td>\n      <td>-0.040368</td>\n      <td>...</td>\n      <td>-1.000000</td>\n      <td>0.357971</td>\n      <td>0.424662</td>\n      <td>NaN</td>\n      <td>-0.011264</td>\n      <td>-0.041017</td>\n      <td>0.086362</td>\n      <td>-0.008304</td>\n      <td>0.056949</td>\n      <td>-0.078408</td>\n    </tr>\n    <tr>\n      <th>OnlineSecurity</th>\n      <td>-0.017665</td>\n      <td>-0.110155</td>\n      <td>0.171581</td>\n      <td>0.157478</td>\n      <td>NaN</td>\n      <td>-0.037132</td>\n      <td>1.000000</td>\n      <td>0.179488</td>\n      <td>0.170099</td>\n      <td>0.273270</td>\n      <td>...</td>\n      <td>0.037132</td>\n      <td>0.033684</td>\n      <td>-0.222298</td>\n      <td>NaN</td>\n      <td>0.137746</td>\n      <td>0.343595</td>\n      <td>-0.139195</td>\n      <td>0.139150</td>\n      <td>-0.238458</td>\n      <td>0.036515</td>\n    </tr>\n    <tr>\n      <th>OnlineBackup</th>\n      <td>-0.013786</td>\n      <td>-0.003253</td>\n      <td>0.173154</td>\n      <td>0.096695</td>\n      <td>NaN</td>\n      <td>0.014632</td>\n      <td>0.179488</td>\n      <td>1.000000</td>\n      <td>0.185021</td>\n      <td>0.190381</td>\n      <td>...</td>\n      <td>-0.014632</td>\n      <td>0.147274</td>\n      <td>-0.014056</td>\n      <td>NaN</td>\n      <td>0.122254</td>\n      <td>0.257787</td>\n      <td>0.006299</td>\n      <td>0.111449</td>\n      <td>-0.127821</td>\n      <td>-0.073532</td>\n    </tr>\n    <tr>\n      <th>DeviceProtection</th>\n      <td>0.001218</td>\n      <td>-0.011162</td>\n      <td>0.187386</td>\n      <td>0.084184</td>\n      <td>NaN</td>\n      <td>-0.005223</td>\n      <td>0.170099</td>\n      <td>0.185021</td>\n      <td>1.000000</td>\n      <td>0.235564</td>\n      <td>...</td>\n      <td>0.005223</td>\n      <td>0.146834</td>\n      <td>-0.000848</td>\n      <td>NaN</td>\n      <td>0.145464</td>\n      <td>0.328887</td>\n      <td>-0.022803</td>\n      <td>0.136819</td>\n      <td>-0.130950</td>\n      <td>-0.092512</td>\n    </tr>\n    <tr>\n      <th>TechSupport</th>\n      <td>-0.008291</td>\n      <td>-0.135289</td>\n      <td>0.144021</td>\n      <td>0.136108</td>\n      <td>NaN</td>\n      <td>-0.040368</td>\n      <td>0.273270</td>\n      <td>0.190381</td>\n      <td>0.235564</td>\n      <td>1.000000</td>\n      <td>...</td>\n      <td>0.040368</td>\n      <td>0.035166</td>\n      <td>-0.211913</td>\n      <td>NaN</td>\n      <td>0.132677</td>\n      <td>0.408903</td>\n      <td>-0.088187</td>\n      <td>0.141169</td>\n      <td>-0.242566</td>\n      <td>0.031326</td>\n    </tr>\n    <tr>\n      <th>StreamingTV</th>\n      <td>-0.006400</td>\n      <td>0.034150</td>\n      <td>0.154387</td>\n      <td>0.052660</td>\n      <td>NaN</td>\n      <td>0.055687</td>\n      <td>0.043613</td>\n      <td>0.146821</td>\n      <td>0.275900</td>\n      <td>0.161312</td>\n      <td>...</td>\n      <td>-0.055687</td>\n      <td>0.209092</td>\n      <td>0.169519</td>\n      <td>NaN</td>\n      <td>0.097915</td>\n      <td>0.218975</td>\n      <td>0.118822</td>\n      <td>0.050667</td>\n      <td>0.031815</td>\n      <td>-0.164462</td>\n    </tr>\n    <tr>\n      <th>StreamingMovies</th>\n      <td>-0.010098</td>\n      <td>0.050055</td>\n      <td>0.146731</td>\n      <td>0.025177</td>\n      <td>NaN</td>\n      <td>0.042939</td>\n      <td>0.056238</td>\n      <td>0.137064</td>\n      <td>0.289547</td>\n      <td>0.163271</td>\n      <td>...</td>\n      <td>-0.042939</td>\n      <td>0.210264</td>\n      <td>0.158724</td>\n      <td>NaN</td>\n      <td>0.101853</td>\n      <td>0.225090</td>\n      <td>0.101048</td>\n      <td>0.061203</td>\n      <td>0.021917</td>\n      <td>-0.166842</td>\n    </tr>\n    <tr>\n      <th>MonthlyCharges</th>\n      <td>-0.017336</td>\n      <td>0.129703</td>\n      <td>0.166292</td>\n      <td>-0.014244</td>\n      <td>NaN</td>\n      <td>0.596436</td>\n      <td>0.069771</td>\n      <td>0.252683</td>\n      <td>0.322484</td>\n      <td>0.135067</td>\n      <td>...</td>\n      <td>-0.596436</td>\n      <td>0.549294</td>\n      <td>0.756062</td>\n      <td>NaN</td>\n      <td>0.062040</td>\n      <td>0.167079</td>\n      <td>0.195039</td>\n      <td>0.052878</td>\n      <td>0.090322</td>\n      <td>-0.260695</td>\n    </tr>\n    <tr>\n      <th>TotalCharges</th>\n      <td>0.003522</td>\n      <td>0.035950</td>\n      <td>0.368531</td>\n      <td>0.138261</td>\n      <td>NaN</td>\n      <td>0.195745</td>\n      <td>0.331783</td>\n      <td>0.431750</td>\n      <td>0.446978</td>\n      <td>0.354257</td>\n      <td>...</td>\n      <td>-0.195745</td>\n      <td>0.446504</td>\n      <td>0.228664</td>\n      <td>NaN</td>\n      <td>0.233123</td>\n      <td>0.534382</td>\n      <td>0.047122</td>\n      <td>0.211505</td>\n      <td>-0.194990</td>\n      <td>-0.216225</td>\n    </tr>\n    <tr>\n      <th>Churn</th>\n      <td>-0.008608</td>\n      <td>0.120978</td>\n      <td>-0.161626</td>\n      <td>-0.147970</td>\n      <td>NaN</td>\n      <td>0.055215</td>\n      <td>-0.280508</td>\n      <td>-0.195758</td>\n      <td>-0.176806</td>\n      <td>-0.274112</td>\n      <td>...</td>\n      <td>-0.055215</td>\n      <td>0.002414</td>\n      <td>0.243811</td>\n      <td>NaN</td>\n      <td>-0.190665</td>\n      <td>-0.289471</td>\n      <td>0.142987</td>\n      <td>-0.147738</td>\n      <td>0.270623</td>\n      <td>-0.042573</td>\n    </tr>\n    <tr>\n      <th>MultipleLines_No phone service</th>\n      <td>0.009551</td>\n      <td>-0.042203</td>\n      <td>-0.021149</td>\n      <td>0.029538</td>\n      <td>NaN</td>\n      <td>-1.000000</td>\n      <td>0.037132</td>\n      <td>-0.014632</td>\n      <td>0.005223</td>\n      <td>0.040368</td>\n      <td>...</td>\n      <td>1.000000</td>\n      <td>-0.357971</td>\n      <td>-0.424662</td>\n      <td>NaN</td>\n      <td>0.011264</td>\n      <td>0.041017</td>\n      <td>-0.086362</td>\n      <td>0.008304</td>\n      <td>-0.056949</td>\n      <td>0.078408</td>\n    </tr>\n    <tr>\n      <th>MultipleLines_Yes</th>\n      <td>-0.006215</td>\n      <td>0.114462</td>\n      <td>0.139027</td>\n      <td>-0.012165</td>\n      <td>NaN</td>\n      <td>0.357971</td>\n      <td>0.033684</td>\n      <td>0.147274</td>\n      <td>0.146834</td>\n      <td>0.035166</td>\n      <td>...</td>\n      <td>-0.357971</td>\n      <td>1.000000</td>\n      <td>0.338555</td>\n      <td>NaN</td>\n      <td>0.021252</td>\n      <td>0.127208</td>\n      <td>0.110654</td>\n      <td>0.057253</td>\n      <td>0.025135</td>\n      <td>-0.176591</td>\n    </tr>\n    <tr>\n      <th>InternetService_Fiber optic</th>\n      <td>-0.011461</td>\n      <td>0.200824</td>\n      <td>0.001406</td>\n      <td>-0.131841</td>\n      <td>NaN</td>\n      <td>0.424662</td>\n      <td>-0.222298</td>\n      <td>-0.014056</td>\n      <td>-0.000848</td>\n      <td>-0.211913</td>\n      <td>...</td>\n      <td>-0.424662</td>\n      <td>0.338555</td>\n      <td>1.000000</td>\n      <td>NaN</td>\n      <td>-0.076528</td>\n      <td>-0.150629</td>\n      <td>0.237285</td>\n      <td>-0.063455</td>\n      <td>0.249442</td>\n      <td>-0.230873</td>\n    </tr>\n    <tr>\n      <th>InternetService_No</th>\n      <td>NaN</td>\n      <td>NaN</td>\n      <td>NaN</td>\n      <td>NaN</td>\n      <td>NaN</td>\n      <td>NaN</td>\n      <td>NaN</td>\n      <td>NaN</td>\n      <td>NaN</td>\n      <td>NaN</td>\n      <td>...</td>\n      <td>NaN</td>\n      <td>NaN</td>\n      <td>NaN</td>\n      <td>NaN</td>\n      <td>NaN</td>\n      <td>NaN</td>\n      <td>NaN</td>\n      <td>NaN</td>\n      <td>NaN</td>\n      <td>NaN</td>\n    </tr>\n    <tr>\n      <th>Contract_One year</th>\n      <td>-0.000292</td>\n      <td>-0.051475</td>\n      <td>0.105792</td>\n      <td>0.086979</td>\n      <td>NaN</td>\n      <td>-0.011264</td>\n      <td>0.137746</td>\n      <td>0.122254</td>\n      <td>0.145464</td>\n      <td>0.132677</td>\n      <td>...</td>\n      <td>0.011264</td>\n      <td>0.021252</td>\n      <td>-0.076528</td>\n      <td>NaN</td>\n      <td>1.000000</td>\n      <td>-0.243743</td>\n      <td>-0.046450</td>\n      <td>0.090824</td>\n      <td>-0.128308</td>\n      <td>-0.002286</td>\n    </tr>\n    <tr>\n      <th>Contract_Two year</th>\n      <td>0.004962</td>\n      <td>-0.100878</td>\n      <td>0.238660</td>\n      <td>0.171472</td>\n      <td>NaN</td>\n      <td>-0.041017</td>\n      <td>0.343595</td>\n      <td>0.257787</td>\n      <td>0.328887</td>\n      <td>0.408903</td>\n      <td>...</td>\n      <td>0.041017</td>\n      <td>0.127208</td>\n      <td>-0.150629</td>\n      <td>NaN</td>\n      <td>-0.243743</td>\n      <td>1.000000</td>\n      <td>-0.098165</td>\n      <td>0.182763</td>\n      <td>-0.261335</td>\n      <td>-0.047955</td>\n    </tr>\n    <tr>\n      <th>PaperlessBilling_1</th>\n      <td>-0.009558</td>\n      <td>0.118466</td>\n      <td>-0.017570</td>\n      <td>-0.090832</td>\n      <td>NaN</td>\n      <td>0.086362</td>\n      <td>-0.139195</td>\n      <td>0.006299</td>\n      <td>-0.022803</td>\n      <td>-0.088187</td>\n      <td>...</td>\n      <td>-0.086362</td>\n      <td>0.110654</td>\n      <td>0.237285</td>\n      <td>NaN</td>\n      <td>-0.046450</td>\n      <td>-0.098165</td>\n      <td>1.000000</td>\n      <td>-0.018617</td>\n      <td>0.139606</td>\n      <td>-0.126481</td>\n    </tr>\n    <tr>\n      <th>PaymentMethod_Credit card (automatic)</th>\n      <td>-0.000090</td>\n      <td>-0.033569</td>\n      <td>0.094177</td>\n      <td>0.078273</td>\n      <td>NaN</td>\n      <td>-0.008304</td>\n      <td>0.139150</td>\n      <td>0.111449</td>\n      <td>0.136819</td>\n      <td>0.141169</td>\n      <td>...</td>\n      <td>0.008304</td>\n      <td>0.057253</td>\n      <td>-0.063455</td>\n      <td>NaN</td>\n      <td>0.090824</td>\n      <td>0.182763</td>\n      <td>-0.018617</td>\n      <td>1.000000</td>\n      <td>-0.434649</td>\n      <td>-0.227008</td>\n    </tr>\n    <tr>\n      <th>PaymentMethod_Electronic check</th>\n      <td>0.001306</td>\n      <td>0.134855</td>\n      <td>-0.101571</td>\n      <td>-0.135462</td>\n      <td>NaN</td>\n      <td>0.056949</td>\n      <td>-0.238458</td>\n      <td>-0.127821</td>\n      <td>-0.130950</td>\n      <td>-0.242566</td>\n      <td>...</td>\n      <td>-0.056949</td>\n      <td>0.025135</td>\n      <td>0.249442</td>\n      <td>NaN</td>\n      <td>-0.128308</td>\n      <td>-0.261335</td>\n      <td>0.139606</td>\n      <td>-0.434649</td>\n      <td>1.000000</td>\n      <td>-0.358359</td>\n    </tr>\n    <tr>\n      <th>PaymentMethod_Mailed check</th>\n      <td>0.011455</td>\n      <td>-0.114798</td>\n      <td>-0.095011</td>\n      <td>0.021998</td>\n      <td>NaN</td>\n      <td>-0.078408</td>\n      <td>0.036515</td>\n      <td>-0.073532</td>\n      <td>-0.092512</td>\n      <td>0.031326</td>\n      <td>...</td>\n      <td>0.078408</td>\n      <td>-0.176591</td>\n      <td>-0.230873</td>\n      <td>NaN</td>\n      <td>-0.002286</td>\n      <td>-0.047955</td>\n      <td>-0.126481</td>\n      <td>-0.227008</td>\n      <td>-0.358359</td>\n      <td>1.000000</td>\n    </tr>\n  </tbody>\n</table>\n<p>25 rows × 25 columns</p>\n</div>"
     },
     "execution_count": 313,
     "metadata": {},
     "output_type": "execute_result"
    }
   ],
   "source": [
    "corr = df.corr()\n",
    "corr"
   ],
   "metadata": {
    "collapsed": false,
    "ExecuteTime": {
     "end_time": "2024-08-26T13:19:03.390391400Z",
     "start_time": "2024-08-26T13:19:02.335569100Z"
    }
   },
   "id": "221c69463dcba50c"
  },
  {
   "cell_type": "code",
   "execution_count": 314,
   "outputs": [
    {
     "data": {
      "text/plain": "<matplotlib.colorbar.Colorbar at 0x210de71bfa0>"
     },
     "execution_count": 314,
     "metadata": {},
     "output_type": "execute_result"
    },
    {
     "data": {
      "text/plain": "<Figure size 640x480 with 2 Axes>",
      "image/png": "[encoded data removed]"
     },
     "metadata": {},
     "output_type": "display_data"
    }
   ],
   "source": [
    "plt.imshow(corr, cmap= \"CMRmap\")\n",
    "plt.title(\"correlation matrix\")\n",
    "plt.colorbar()"
   ],
   "metadata": {
    "collapsed": false,
    "ExecuteTime": {
     "end_time": "2024-08-26T13:19:03.407392300Z",
     "start_time": "2024-08-26T13:19:02.418135900Z"
    }
   },
   "id": "eef6d2c9a3939fc5"
  },
  {
   "cell_type": "markdown",
   "source": [
    "## dealing with highly correlated features"
   ],
   "metadata": {
    "collapsed": false
   },
   "id": "c646a21515a907a3"
  },
  {
   "cell_type": "code",
   "execution_count": 315,
   "outputs": [],
   "source": [
    "threshold= 0.8\n",
    "high_corr_feat = set()\n",
    "\n",
    "for i in range(len(corr.columns)):\n",
    "    for j in range(i):\n",
    "        if(abs(corr.iloc[i,j]) >= threshold):\n",
    "            colname = corr.columns[i]\n",
    "            high_corr_feat.add(colname)"
   ],
   "metadata": {
    "collapsed": false,
    "ExecuteTime": {
     "end_time": "2024-08-26T13:19:03.707063100Z",
     "start_time": "2024-08-26T13:19:02.832126500Z"
    }
   },
   "id": "68e34f089cb2dc4d"
  },
  {
   "cell_type": "code",
   "execution_count": 316,
   "outputs": [
    {
     "name": "stdout",
     "output_type": "stream",
     "text": [
      "Columns dropped: {'MultipleLines_No phone service'}\n"
     ]
    }
   ],
   "source": [
    "df.drop(columns= high_corr_feat, inplace= True)\n",
    "print(\"Columns dropped:\", high_corr_feat)"
   ],
   "metadata": {
    "collapsed": false,
    "ExecuteTime": {
     "end_time": "2024-08-26T13:19:03.752082Z",
     "start_time": "2024-08-26T13:19:02.860663200Z"
    }
   },
   "id": "354bf807f9b34e44"
  },
  {
   "cell_type": "code",
   "execution_count": 317,
   "outputs": [
    {
     "data": {
      "text/plain": "      gender  SeniorCitizen  Partner  Dependents  tenure  PhoneService  \\\n0      False          False     True       False    True         False   \n1       True          False    False       False    True          True   \n2       True          False    False       False    True          True   \n3       True          False    False       False    True         False   \n4      False          False    False       False    True          True   \n...      ...            ...      ...         ...     ...           ...   \n7038    True          False     True        True    True          True   \n7039   False          False     True        True    True          True   \n7040   False          False     True        True    True         False   \n7041    True           True     True       False    True          True   \n7042    True          False    False       False    True          True   \n\n      OnlineSecurity  OnlineBackup  DeviceProtection  TechSupport  ...  Churn  \\\n0                0.0           1.0               0.0          0.0  ...  False   \n1                1.0           0.0               1.0          0.0  ...  False   \n2                1.0           1.0               0.0          0.0  ...   True   \n3                1.0           0.0               1.0          1.0  ...  False   \n4                0.0           0.0               0.0          0.0  ...   True   \n...              ...           ...               ...          ...  ...    ...   \n7038             1.0           0.0               1.0          1.0  ...  False   \n7039             0.0           1.0               1.0          0.0  ...  False   \n7040             1.0           0.0               0.0          0.0  ...  False   \n7041             0.0           0.0               0.0          0.0  ...   True   \n7042             1.0           0.0               1.0          1.0  ...  False   \n\n      MultipleLines_Yes  InternetService_Fiber optic  InternetService_No  \\\n0                 False                        False               False   \n1                 False                        False               False   \n2                 False                        False               False   \n3                 False                        False               False   \n4                 False                         True               False   \n...                 ...                          ...                 ...   \n7038               True                        False               False   \n7039               True                         True               False   \n7040              False                        False               False   \n7041               True                         True               False   \n7042              False                         True               False   \n\n      Contract_One year  Contract_Two year  PaperlessBilling_1  \\\n0                 False              False                True   \n1                  True              False               False   \n2                 False              False                True   \n3                  True              False               False   \n4                 False              False                True   \n...                 ...                ...                 ...   \n7038               True              False                True   \n7039               True              False                True   \n7040              False              False                True   \n7041              False              False                True   \n7042              False               True                True   \n\n      PaymentMethod_Credit card (automatic)  PaymentMethod_Electronic check  \\\n0                                     False                            True   \n1                                     False                           False   \n2                                     False                           False   \n3                                     False                           False   \n4                                     False                            True   \n...                                     ...                             ...   \n7038                                  False                           False   \n7039                                   True                           False   \n7040                                  False                            True   \n7041                                  False                           False   \n7042                                  False                           False   \n\n      PaymentMethod_Mailed check  \n0                          False  \n1                           True  \n2                           True  \n3                          False  \n4                          False  \n...                          ...  \n7038                        True  \n7039                       False  \n7040                       False  \n7041                        True  \n7042                       False  \n\n[5512 rows x 24 columns]",
      "text/html": "<div>\n<style scoped>\n    .dataframe tbody tr th:only-of-type {\n        vertical-align: middle;\n    }\n\n    .dataframe tbody tr th {\n        vertical-align: top;\n    }\n\n    .dataframe thead th {\n        text-align: right;\n    }\n</style>\n<table border=\"1\" class=\"dataframe\">\n  <thead>\n    <tr style=\"text-align: right;\">\n      <th></th>\n      <th>gender</th>\n      <th>SeniorCitizen</th>\n      <th>Partner</th>\n      <th>Dependents</th>\n      <th>tenure</th>\n      <th>PhoneService</th>\n      <th>OnlineSecurity</th>\n      <th>OnlineBackup</th>\n      <th>DeviceProtection</th>\n      <th>TechSupport</th>\n      <th>...</th>\n      <th>Churn</th>\n      <th>MultipleLines_Yes</th>\n      <th>InternetService_Fiber optic</th>\n      <th>InternetService_No</th>\n      <th>Contract_One year</th>\n      <th>Contract_Two year</th>\n      <th>PaperlessBilling_1</th>\n      <th>PaymentMethod_Credit card (automatic)</th>\n      <th>PaymentMethod_Electronic check</th>\n      <th>PaymentMethod_Mailed check</th>\n    </tr>\n  </thead>\n  <tbody>\n    <tr>\n      <th>0</th>\n      <td>False</td>\n      <td>False</td>\n      <td>True</td>\n      <td>False</td>\n      <td>True</td>\n      <td>False</td>\n      <td>0.0</td>\n      <td>1.0</td>\n      <td>0.0</td>\n      <td>0.0</td>\n      <td>...</td>\n      <td>False</td>\n      <td>False</td>\n      <td>False</td>\n      <td>False</td>\n      <td>False</td>\n      <td>False</td>\n      <td>True</td>\n      <td>False</td>\n      <td>True</td>\n      <td>False</td>\n    </tr>\n    <tr>\n      <th>1</th>\n      <td>True</td>\n      <td>False</td>\n      <td>False</td>\n      <td>False</td>\n      <td>True</td>\n      <td>True</td>\n      <td>1.0</td>\n      <td>0.0</td>\n      <td>1.0</td>\n      <td>0.0</td>\n      <td>...</td>\n      <td>False</td>\n      <td>False</td>\n      <td>False</td>\n      <td>False</td>\n      <td>True</td>\n      <td>False</td>\n      <td>False</td>\n      <td>False</td>\n      <td>False</td>\n      <td>True</td>\n    </tr>\n    <tr>\n      <th>2</th>\n      <td>True</td>\n      <td>False</td>\n      <td>False</td>\n      <td>False</td>\n      <td>True</td>\n      <td>True</td>\n      <td>1.0</td>\n      <td>1.0</td>\n      <td>0.0</td>\n      <td>0.0</td>\n      <td>...</td>\n      <td>True</td>\n      <td>False</td>\n      <td>False</td>\n      <td>False</td>\n      <td>False</td>\n      <td>False</td>\n      <td>True</td>\n      <td>False</td>\n      <td>False</td>\n      <td>True</td>\n    </tr>\n    <tr>\n      <th>3</th>\n      <td>True</td>\n      <td>False</td>\n      <td>False</td>\n      <td>False</td>\n      <td>True</td>\n      <td>False</td>\n      <td>1.0</td>\n      <td>0.0</td>\n      <td>1.0</td>\n      <td>1.0</td>\n      <td>...</td>\n      <td>False</td>\n      <td>False</td>\n      <td>False</td>\n      <td>False</td>\n      <td>True</td>\n      <td>False</td>\n      <td>False</td>\n      <td>False</td>\n      <td>False</td>\n      <td>False</td>\n    </tr>\n    <tr>\n      <th>4</th>\n      <td>False</td>\n      <td>False</td>\n      <td>False</td>\n      <td>False</td>\n      <td>True</td>\n      <td>True</td>\n      <td>0.0</td>\n      <td>0.0</td>\n      <td>0.0</td>\n      <td>0.0</td>\n      <td>...</td>\n      <td>True</td>\n      <td>False</td>\n      <td>True</td>\n      <td>False</td>\n      <td>False</td>\n      <td>False</td>\n      <td>True</td>\n      <td>False</td>\n      <td>True</td>\n      <td>False</td>\n    </tr>\n    <tr>\n      <th>...</th>\n      <td>...</td>\n      <td>...</td>\n      <td>...</td>\n      <td>...</td>\n      <td>...</td>\n      <td>...</td>\n      <td>...</td>\n      <td>...</td>\n      <td>...</td>\n      <td>...</td>\n      <td>...</td>\n      <td>...</td>\n      <td>...</td>\n      <td>...</td>\n      <td>...</td>\n      <td>...</td>\n      <td>...</td>\n      <td>...</td>\n      <td>...</td>\n      <td>...</td>\n      <td>...</td>\n    </tr>\n    <tr>\n      <th>7038</th>\n      <td>True</td>\n      <td>False</td>\n      <td>True</td>\n      <td>True</td>\n      <td>True</td>\n      <td>True</td>\n      <td>1.0</td>\n      <td>0.0</td>\n      <td>1.0</td>\n      <td>1.0</td>\n      <td>...</td>\n      <td>False</td>\n      <td>True</td>\n      <td>False</td>\n      <td>False</td>\n      <td>True</td>\n      <td>False</td>\n      <td>True</td>\n      <td>False</td>\n      <td>False</td>\n      <td>True</td>\n    </tr>\n    <tr>\n      <th>7039</th>\n      <td>False</td>\n      <td>False</td>\n      <td>True</td>\n      <td>True</td>\n      <td>True</td>\n      <td>True</td>\n      <td>0.0</td>\n      <td>1.0</td>\n      <td>1.0</td>\n      <td>0.0</td>\n      <td>...</td>\n      <td>False</td>\n      <td>True</td>\n      <td>True</td>\n      <td>False</td>\n      <td>True</td>\n      <td>False</td>\n      <td>True</td>\n      <td>True</td>\n      <td>False</td>\n      <td>False</td>\n    </tr>\n    <tr>\n      <th>7040</th>\n      <td>False</td>\n      <td>False</td>\n      <td>True</td>\n      <td>True</td>\n      <td>True</td>\n      <td>False</td>\n      <td>1.0</td>\n      <td>0.0</td>\n      <td>0.0</td>\n      <td>0.0</td>\n      <td>...</td>\n      <td>False</td>\n      <td>False</td>\n      <td>False</td>\n      <td>False</td>\n      <td>False</td>\n      <td>False</td>\n      <td>True</td>\n      <td>False</td>\n      <td>True</td>\n      <td>False</td>\n    </tr>\n    <tr>\n      <th>7041</th>\n      <td>True</td>\n      <td>True</td>\n      <td>True</td>\n      <td>False</td>\n      <td>True</td>\n      <td>True</td>\n      <td>0.0</td>\n      <td>0.0</td>\n      <td>0.0</td>\n      <td>0.0</td>\n      <td>...</td>\n      <td>True</td>\n      <td>True</td>\n      <td>True</td>\n      <td>False</td>\n      <td>False</td>\n      <td>False</td>\n      <td>True</td>\n      <td>False</td>\n      <td>False</td>\n      <td>True</td>\n    </tr>\n    <tr>\n      <th>7042</th>\n      <td>True</td>\n      <td>False</td>\n      <td>False</td>\n      <td>False</td>\n      <td>True</td>\n      <td>True</td>\n      <td>1.0</td>\n      <td>0.0</td>\n      <td>1.0</td>\n      <td>1.0</td>\n      <td>...</td>\n      <td>False</td>\n      <td>False</td>\n      <td>True</td>\n      <td>False</td>\n      <td>False</td>\n      <td>True</td>\n      <td>True</td>\n      <td>False</td>\n      <td>False</td>\n      <td>False</td>\n    </tr>\n  </tbody>\n</table>\n<p>5512 rows × 24 columns</p>\n</div>"
     },
     "execution_count": 317,
     "metadata": {},
     "output_type": "execute_result"
    }
   ],
   "source": [
    "df"
   ],
   "metadata": {
    "collapsed": false,
    "ExecuteTime": {
     "end_time": "2024-08-26T13:19:03.756092Z",
     "start_time": "2024-08-26T13:19:02.898663900Z"
    }
   },
   "id": "20d2d64bf1571145"
  },
  {
   "cell_type": "code",
   "execution_count": 318,
   "outputs": [
    {
     "name": "stdout",
     "output_type": "stream",
     "text": [
      "<class 'pandas.core.frame.DataFrame'>\n",
      "Index: 5512 entries, 0 to 7042\n",
      "Data columns (total 24 columns):\n",
      " #   Column                                 Non-Null Count  Dtype  \n",
      "---  ------                                 --------------  -----  \n",
      " 0   gender                                 5512 non-null   bool   \n",
      " 1   SeniorCitizen                          5512 non-null   bool   \n",
      " 2   Partner                                5512 non-null   bool   \n",
      " 3   Dependents                             5512 non-null   bool   \n",
      " 4   tenure                                 5512 non-null   bool   \n",
      " 5   PhoneService                           5512 non-null   bool   \n",
      " 6   OnlineSecurity                         5512 non-null   float64\n",
      " 7   OnlineBackup                           5512 non-null   float64\n",
      " 8   DeviceProtection                       5512 non-null   float64\n",
      " 9   TechSupport                            5512 non-null   float64\n",
      " 10  StreamingTV                            5512 non-null   float64\n",
      " 11  StreamingMovies                        5512 non-null   float64\n",
      " 12  MonthlyCharges                         5512 non-null   float64\n",
      " 13  TotalCharges                           5512 non-null   float64\n",
      " 14  Churn                                  5512 non-null   bool   \n",
      " 15  MultipleLines_Yes                      5512 non-null   bool   \n",
      " 16  InternetService_Fiber optic            5512 non-null   bool   \n",
      " 17  InternetService_No                     5512 non-null   bool   \n",
      " 18  Contract_One year                      5512 non-null   bool   \n",
      " 19  Contract_Two year                      5512 non-null   bool   \n",
      " 20  PaperlessBilling_1                     5512 non-null   bool   \n",
      " 21  PaymentMethod_Credit card (automatic)  5512 non-null   bool   \n",
      " 22  PaymentMethod_Electronic check         5512 non-null   bool   \n",
      " 23  PaymentMethod_Mailed check             5512 non-null   bool   \n",
      "dtypes: bool(16), float64(8)\n",
      "memory usage: 473.7 KB\n"
     ]
    }
   ],
   "source": [
    "df.info()"
   ],
   "metadata": {
    "collapsed": false,
    "ExecuteTime": {
     "end_time": "2024-08-26T13:19:03.785633500Z",
     "start_time": "2024-08-26T13:19:02.970201300Z"
    }
   },
   "id": "771c4c0b97e293e5"
  },
  {
   "cell_type": "markdown",
   "source": [
    "# *now the data is completely clean and can be worked with*"
   ],
   "metadata": {
    "collapsed": false
   },
   "id": "e65f65670cb5503c"
  },
  {
   "cell_type": "markdown",
   "source": [
    "## let's convert the data from pandas to numpy now to work with it"
   ],
   "metadata": {
    "collapsed": false
   },
   "id": "9ac3765e5a224e27"
  },
  {
   "cell_type": "code",
   "execution_count": 319,
   "outputs": [
    {
     "data": {
      "text/plain": "array([[0., 0., 1., ..., 0., 1., 0.],\n       [1., 0., 0., ..., 0., 0., 1.],\n       [1., 0., 0., ..., 0., 0., 1.],\n       ...,\n       [0., 0., 1., ..., 0., 1., 0.],\n       [1., 1., 1., ..., 0., 0., 1.],\n       [1., 0., 0., ..., 0., 0., 0.]])"
     },
     "execution_count": 319,
     "metadata": {},
     "output_type": "execute_result"
    }
   ],
   "source": [
    "X_train = df.drop(\"Churn\", axis= \"columns\").to_numpy().astype(float)\n",
    "X_train"
   ],
   "metadata": {
    "collapsed": false,
    "ExecuteTime": {
     "end_time": "2024-08-26T13:19:03.785633500Z",
     "start_time": "2024-08-26T13:19:03.003208400Z"
    }
   },
   "id": "6513baefe66890ea"
  },
  {
   "cell_type": "code",
   "execution_count": 320,
   "outputs": [
    {
     "data": {
      "text/plain": "array(['gender', 'SeniorCitizen', 'Partner', 'Dependents', 'tenure',\n       'PhoneService', 'OnlineSecurity', 'OnlineBackup',\n       'DeviceProtection', 'TechSupport', 'StreamingTV',\n       'StreamingMovies', 'MonthlyCharges', 'TotalCharges',\n       'MultipleLines_Yes', 'InternetService_Fiber optic',\n       'InternetService_No', 'Contract_One year', 'Contract_Two year',\n       'PaperlessBilling_1', 'PaymentMethod_Credit card (automatic)',\n       'PaymentMethod_Electronic check', 'PaymentMethod_Mailed check'],\n      dtype=object)"
     },
     "execution_count": 320,
     "metadata": {},
     "output_type": "execute_result"
    }
   ],
   "source": [
    "X_features = df.drop(\"Churn\", axis= \"columns\").columns.to_numpy()\n",
    "X_features"
   ],
   "metadata": {
    "collapsed": false,
    "ExecuteTime": {
     "end_time": "2024-08-26T13:19:03.786634700Z",
     "start_time": "2024-08-26T13:19:03.035206200Z"
    }
   },
   "id": "f2e6a7a13fe20c35"
  },
  {
   "cell_type": "markdown",
   "source": [
    "## remove columns with zero standard deviation because they do not contribute to the model, so remove nan values"
   ],
   "metadata": {
    "collapsed": false
   },
   "id": "b802623be621986e"
  },
  {
   "cell_type": "code",
   "execution_count": 321,
   "outputs": [
    {
     "name": "stdout",
     "output_type": "stream",
     "text": [
      "['gender' 'SeniorCitizen' 'Partner' 'Dependents' 'PhoneService'\n",
      " 'OnlineSecurity' 'OnlineBackup' 'DeviceProtection' 'TechSupport'\n",
      " 'StreamingTV' 'StreamingMovies' 'MonthlyCharges' 'TotalCharges'\n",
      " 'MultipleLines_Yes' 'InternetService_Fiber optic' 'Contract_One year'\n",
      " 'Contract_Two year' 'PaperlessBilling_1'\n",
      " 'PaymentMethod_Credit card (automatic)' 'PaymentMethod_Electronic check'\n",
      " 'PaymentMethod_Mailed check']\n"
     ]
    }
   ],
   "source": [
    "X_features = X_features[~(X_train.std(axis= 0) == 0)]\n",
    "print(X_features)"
   ],
   "metadata": {
    "collapsed": false,
    "ExecuteTime": {
     "end_time": "2024-08-26T13:19:03.787634100Z",
     "start_time": "2024-08-26T13:19:03.065731600Z"
    }
   },
   "id": "86e6380c9b7a2bd5"
  },
  {
   "cell_type": "code",
   "execution_count": 322,
   "outputs": [
    {
     "data": {
      "text/plain": "array([[0., 0., 1., ..., 0., 1., 0.],\n       [1., 0., 0., ..., 0., 0., 1.],\n       [1., 0., 0., ..., 0., 0., 1.],\n       ...,\n       [0., 0., 1., ..., 0., 1., 0.],\n       [1., 1., 1., ..., 0., 0., 1.],\n       [1., 0., 0., ..., 0., 0., 0.]])"
     },
     "execution_count": 322,
     "metadata": {},
     "output_type": "execute_result"
    }
   ],
   "source": [
    "X_train = X_train[:, ~(X_train.std(axis= 0) == 0)]\n",
    "X_train"
   ],
   "metadata": {
    "collapsed": false,
    "ExecuteTime": {
     "end_time": "2024-08-26T13:19:03.806636600Z",
     "start_time": "2024-08-26T13:19:03.084733Z"
    }
   },
   "id": "c39a897e31ed2adb"
  },
  {
   "cell_type": "code",
   "execution_count": 323,
   "outputs": [
    {
     "data": {
      "text/plain": "array([False, False,  True, ..., False,  True, False])"
     },
     "execution_count": 323,
     "metadata": {},
     "output_type": "execute_result"
    }
   ],
   "source": [
    "y_train = df[\"Churn\"].to_numpy()\n",
    "y_train"
   ],
   "metadata": {
    "collapsed": false,
    "ExecuteTime": {
     "end_time": "2024-08-26T13:19:03.807643900Z",
     "start_time": "2024-08-26T13:19:03.112745200Z"
    }
   },
   "id": "a7eda90c0bcfad22"
  },
  {
   "cell_type": "code",
   "execution_count": 324,
   "outputs": [
    {
     "name": "stdout",
     "output_type": "stream",
     "text": [
      "(5512, 21)\n",
      "(5512,)\n"
     ]
    }
   ],
   "source": [
    "print(X_train.shape)\n",
    "print(y_train.shape)"
   ],
   "metadata": {
    "collapsed": false,
    "ExecuteTime": {
     "end_time": "2024-08-26T13:19:03.808643400Z",
     "start_time": "2024-08-26T13:19:03.131736700Z"
    }
   },
   "id": "d7deff5486aab479"
  },
  {
   "cell_type": "markdown",
   "source": [
    "## normalize the data"
   ],
   "metadata": {
    "collapsed": false
   },
   "id": "8efe180c8d7a7a6e"
  },
  {
   "cell_type": "code",
   "execution_count": 325,
   "outputs": [],
   "source": [
    "def normalize(X):\n",
    "    mean = X.mean(axis= 0)\n",
    "    sigma = X.std(axis= 0)\n",
    "    return ((X - mean) / sigma), mean, sigma"
   ],
   "metadata": {
    "collapsed": false,
    "ExecuteTime": {
     "end_time": "2024-08-26T13:19:03.810643700Z",
     "start_time": "2024-08-26T13:19:03.146747300Z"
    }
   },
   "id": "b8b0f55eed1b877b"
  },
  {
   "cell_type": "code",
   "execution_count": 326,
   "outputs": [
    {
     "data": {
      "text/plain": "array([[-1.00691798, -0.49648243,  1.03546147, ..., -0.52472421,\n         1.2072378 , -0.43262394],\n       [ 0.99312955, -0.49648243, -0.96575298, ..., -0.52472421,\n        -0.82833722,  2.31147635],\n       [ 0.99312955, -0.49648243, -0.96575298, ..., -0.52472421,\n        -0.82833722,  2.31147635],\n       ...,\n       [-1.00691798, -0.49648243,  1.03546147, ..., -0.52472421,\n         1.2072378 , -0.43262394],\n       [ 0.99312955,  2.01416999,  1.03546147, ..., -0.52472421,\n        -0.82833722,  2.31147635],\n       [ 0.99312955, -0.49648243, -0.96575298, ..., -0.52472421,\n        -0.82833722, -0.43262394]])"
     },
     "execution_count": 326,
     "metadata": {},
     "output_type": "execute_result"
    }
   ],
   "source": [
    "X_norm,u_m,sigma = normalize(X_train)\n",
    "X_norm"
   ],
   "metadata": {
    "collapsed": false,
    "ExecuteTime": {
     "end_time": "2024-08-26T13:19:03.829637500Z",
     "start_time": "2024-08-26T13:19:03.159285300Z"
    }
   },
   "id": "3cd79576f55e3256"
  },
  {
   "cell_type": "markdown",
   "source": [
    "## make sure data is clean and all values are numerical and finite"
   ],
   "metadata": {
    "collapsed": false
   },
   "id": "11bd87149e41bb0e"
  },
  {
   "cell_type": "code",
   "execution_count": 327,
   "outputs": [
    {
     "name": "stdout",
     "output_type": "stream",
     "text": [
      "data is clean and all values are numerical and finite\n"
     ]
    }
   ],
   "source": [
    "if np.any(np.isnan(X_norm)) or np.any(np.isinf(X_norm)):\n",
    "    print(\"Warning: Data contains NaN or infinite values after normalization.\")\n",
    "else:\n",
    "    print(\"data is clean and all values are numerical and finite\")"
   ],
   "metadata": {
    "collapsed": false,
    "ExecuteTime": {
     "end_time": "2024-08-26T13:19:03.830648300Z",
     "start_time": "2024-08-26T13:19:03.194283800Z"
    }
   },
   "id": "26cd1342db818c86"
  },
  {
   "cell_type": "markdown",
   "source": [
    "## visualise relationship between features"
   ],
   "metadata": {
    "collapsed": false
   },
   "id": "7b32f91112f61740"
  },
  {
   "cell_type": "code",
   "execution_count": 328,
   "outputs": [
    {
     "data": {
      "text/plain": "<Figure size 800x1200 with 5 Axes>",
      "image/png": "[encoded data removed]"
     },
     "metadata": {},
     "output_type": "display_data"
    }
   ],
   "source": [
    "fig,axs = plt.subplots(3,1,figsize= (8,12))\n",
    "X_true1 = X_norm[y_train == 1,11]\n",
    "X_true2 = X_norm[y_train == 1,12]\n",
    "axs[0].scatter(X_true1[:50], X_true2[:50],c= 'b', label= \"churn\")\n",
    "\n",
    "X_false1 = X_norm[y_train == 0,11]\n",
    "X_false2 = X_norm[y_train == 0,12]\n",
    "axs[0].scatter(X_false1[:50], X_false2[:50],c= 'r', marker= 'x', label = \"not churn\")\n",
    "axs[0].set_xlabel(X_features[11])\n",
    "axs[0].set_ylabel(X_features[12])\n",
    "axs[0].legend()\n",
    "\n",
    "h1 = axs[1].hist2d(X_norm[y_train == 1,0],X_norm[y_train == 1,1], cmap='viridis')\n",
    "fig.colorbar(h1[3], ax=axs[1])\n",
    "\n",
    "h2 = axs[2].hist2d(X_norm[y_train == 0,0],X_norm[y_train == 0,1], cmap='viridis')\n",
    "fig.colorbar(h2[3], ax=axs[2])\n",
    "\n",
    "plt.show()"
   ],
   "metadata": {
    "collapsed": false,
    "ExecuteTime": {
     "end_time": "2024-08-26T13:19:04.964050900Z",
     "start_time": "2024-08-26T13:19:03.214306800Z"
    }
   },
   "id": "a0cc28f45398055c"
  },
  {
   "cell_type": "markdown",
   "source": [
    "### from the distribution of the data, the number of parameters and their nature and the complexity of the problem, no feature engineering & regularization is required"
   ],
   "metadata": {
    "collapsed": false
   },
   "id": "f69ef242f254b201"
  },
  {
   "cell_type": "markdown",
   "source": [
    "### add the bias term to the training data"
   ],
   "metadata": {
    "collapsed": false
   },
   "id": "57d2ce96458a3599"
  },
  {
   "cell_type": "code",
   "execution_count": 329,
   "outputs": [
    {
     "data": {
      "text/plain": "array([[-1.00691798, -0.49648243,  1.03546147, ...,  1.2072378 ,\n        -0.43262394,  1.        ],\n       [ 0.99312955, -0.49648243, -0.96575298, ..., -0.82833722,\n         2.31147635,  1.        ],\n       [ 0.99312955, -0.49648243, -0.96575298, ..., -0.82833722,\n         2.31147635,  1.        ],\n       ...,\n       [-1.00691798, -0.49648243,  1.03546147, ...,  1.2072378 ,\n        -0.43262394,  1.        ],\n       [ 0.99312955,  2.01416999,  1.03546147, ..., -0.82833722,\n         2.31147635,  1.        ],\n       [ 0.99312955, -0.49648243, -0.96575298, ..., -0.82833722,\n        -0.43262394,  1.        ]])"
     },
     "execution_count": 329,
     "metadata": {},
     "output_type": "execute_result"
    }
   ],
   "source": [
    "bias_term = np.ones((X_norm.shape[0], 1))\n",
    "X_norm = np.hstack((X_norm, bias_term))\n",
    "X_norm"
   ],
   "metadata": {
    "collapsed": false,
    "ExecuteTime": {
     "end_time": "2024-08-26T13:19:04.967058500Z",
     "start_time": "2024-08-26T13:19:04.254404500Z"
    }
   },
   "id": "51b7fb418b77106"
  },
  {
   "cell_type": "markdown",
   "source": [
    "## initializing the parameters"
   ],
   "metadata": {
    "collapsed": false
   },
   "id": "59bf80be4cac3957"
  },
  {
   "cell_type": "code",
   "execution_count": 330,
   "outputs": [],
   "source": [
    "def initialize(X):\n",
    "    n = X.shape[1]\n",
    "    theta = np.random.randn(n)\n",
    "    return theta"
   ],
   "metadata": {
    "collapsed": false,
    "ExecuteTime": {
     "end_time": "2024-08-26T13:19:04.968053600Z",
     "start_time": "2024-08-26T13:19:04.286674100Z"
    }
   },
   "id": "fa980a5e9ab73561"
  },
  {
   "cell_type": "code",
   "execution_count": 331,
   "outputs": [
    {
     "name": "stdout",
     "output_type": "stream",
     "text": [
      "(22,)\n"
     ]
    },
    {
     "data": {
      "text/plain": "array([-0.33588157,  0.35656938, -0.59982902, -0.38587166,  0.42954882,\n       -0.70117178,  0.62029584,  0.345812  ,  0.43356581,  0.19217376,\n        0.42253373,  0.81336268,  0.43727698,  0.67802788,  0.11146226,\n        1.540079  , -0.27388383,  0.68378547, -1.4377018 ,  1.04174094,\n        1.02476624, -1.444528  ])"
     },
     "execution_count": 331,
     "metadata": {},
     "output_type": "execute_result"
    }
   ],
   "source": [
    "theta = initialize(X_norm)\n",
    "print(theta.shape)\n",
    "theta"
   ],
   "metadata": {
    "collapsed": false,
    "ExecuteTime": {
     "end_time": "2024-08-26T13:19:05.004049900Z",
     "start_time": "2024-08-26T13:19:04.302672700Z"
    }
   },
   "id": "dd12187d3931a490"
  },
  {
   "cell_type": "markdown",
   "source": [
    "## make the sigmoid prediction function"
   ],
   "metadata": {
    "collapsed": false
   },
   "id": "5528174eb4249561"
  },
  {
   "cell_type": "code",
   "execution_count": 332,
   "outputs": [],
   "source": [
    "def sigmoid(z):\n",
    "    return (1/(1 + np.exp(-z)))"
   ],
   "metadata": {
    "collapsed": false,
    "ExecuteTime": {
     "end_time": "2024-08-26T13:19:05.005054800Z",
     "start_time": "2024-08-26T13:19:04.334678100Z"
    }
   },
   "id": "31c6f5b3c9f50141"
  },
  {
   "cell_type": "code",
   "execution_count": 333,
   "outputs": [],
   "source": [
    "def predict(theta, x_sample):\n",
    "    z = np.dot(theta, x_sample)\n",
    "    pred = sigmoid(z)\n",
    "    return 1 if (pred >= 0.5) else 0"
   ],
   "metadata": {
    "collapsed": false,
    "ExecuteTime": {
     "end_time": "2024-08-26T13:19:05.005054800Z",
     "start_time": "2024-08-26T13:19:04.347681700Z"
    }
   },
   "id": "c99fa0fd4f4ab71a"
  },
  {
   "cell_type": "markdown",
   "source": [
    "## making the cost function which is the average over all the examples of the logistic loss"
   ],
   "metadata": {
    "collapsed": false
   },
   "id": "58889d2d99e43a53"
  },
  {
   "cell_type": "code",
   "execution_count": 334,
   "outputs": [],
   "source": [
    "def compute_cost(theta, X, y):\n",
    "    epsilon = 1e-15 #small constant to prevent log of 0\n",
    "    \n",
    "    m = X.shape[0]\n",
    "    z = np.dot(X, theta)\n",
    "    preds = sigmoid(z)\n",
    "    \n",
    "    preds = np.clip(preds, epsilon, 1 - epsilon) #clipping the predictions to prevent trying to calculate log(0) in the loss computation\n",
    "    \n",
    "    loss = -(y * np.log(preds) + (1 - y) * np.log(1 - preds))\n",
    "    cost = loss.sum() / m\n",
    "    \n",
    "    return cost"
   ],
   "metadata": {
    "collapsed": false,
    "ExecuteTime": {
     "end_time": "2024-08-26T13:19:05.006059400Z",
     "start_time": "2024-08-26T13:19:04.370206100Z"
    }
   },
   "id": "e3a616d9228cdd86"
  },
  {
   "cell_type": "markdown",
   "source": [
    "## making the function that calculates the gradient of the cost"
   ],
   "metadata": {
    "collapsed": false
   },
   "id": "304ebc8d65f48fa3"
  },
  {
   "cell_type": "code",
   "execution_count": 335,
   "outputs": [],
   "source": [
    "def compute_gradient(theta, X, y):\n",
    "    m = X.shape[0]\n",
    "    z = np.dot(X, theta)\n",
    "    preds = sigmoid(z)\n",
    "    errs = preds - y\n",
    "    \n",
    "    dj_dth = np.dot(X.T, errs) / m\n",
    "    \n",
    "    return dj_dth"
   ],
   "metadata": {
    "collapsed": false,
    "ExecuteTime": {
     "end_time": "2024-08-26T13:19:05.006059400Z",
     "start_time": "2024-08-26T13:19:04.398206500Z"
    }
   },
   "id": "54d717f97585d043"
  },
  {
   "cell_type": "markdown",
   "source": [
    "## making the gradient descent function to train the model with"
   ],
   "metadata": {
    "collapsed": false
   },
   "id": "a37c83dbe463fc81"
  },
  {
   "cell_type": "code",
   "execution_count": 336,
   "outputs": [],
   "source": [
    "def gradient_descent(theta_in, X, y, learning_rate, gradient_func, cost_func, num_iters):\n",
    "    cost_his = []\n",
    "    theta = copy.deepcopy(theta_in)\n",
    "    \n",
    "    for i in range(num_iters):\n",
    "        theta -= learning_rate * gradient_func(theta, X, y)\n",
    "        \n",
    "        cost = cost_func(theta, X, y)\n",
    "        cost_his.append(cost)\n",
    "        if(i%(num_iters//10) == 0 or i == num_iters-1):\n",
    "            print(f\"iteration {i}/{num_iters} ::: cost: {cost_his[-1]}\")\n",
    "    return theta, cost_his"
   ],
   "metadata": {
    "collapsed": false,
    "ExecuteTime": {
     "end_time": "2024-08-26T13:19:05.006059400Z",
     "start_time": "2024-08-26T13:19:04.419209Z"
    }
   },
   "id": "dd5e7c7967008fac"
  },
  {
   "cell_type": "markdown",
   "source": [
    "## training and evaluating the model"
   ],
   "metadata": {
    "collapsed": false
   },
   "id": "18cd58cc9c931a8a"
  },
  {
   "cell_type": "code",
   "execution_count": 337,
   "outputs": [
    {
     "name": "stdout",
     "output_type": "stream",
     "text": [
      "iteration 0/1000 ::: cost: 1.278655174301793\n",
      "iteration 100/1000 ::: cost: 0.47975995593728166\n",
      "iteration 200/1000 ::: cost: 0.47780106056394733\n",
      "iteration 300/1000 ::: cost: 0.4777639331725383\n",
      "iteration 400/1000 ::: cost: 0.47775899111912734\n",
      "iteration 500/1000 ::: cost: 0.4777568909397914\n",
      "iteration 600/1000 ::: cost: 0.47775515162341864\n",
      "iteration 700/1000 ::: cost: 0.4777534845107002\n",
      "iteration 800/1000 ::: cost: 0.47775184872025994\n",
      "iteration 900/1000 ::: cost: 0.4777502370934955\n",
      "iteration 999/1000 ::: cost: 0.47774866378108666\n",
      "[-0.01172698  0.07680984 -0.02343028 -0.06228293 -0.19819054 -0.22262672\n",
      " -0.1048994  -0.04382052 -0.19752374  0.07427769  0.08009764  0.34133653\n",
      " -0.78770322  0.12132366  0.32281218 -0.25663379 -0.49601975  0.15466029\n",
      " -0.01209516  0.196191    0.03294844 -1.1526587 ]\n"
     ]
    },
    {
     "data": {
      "text/plain": "<Figure size 640x480 with 1 Axes>",
      "image/png": "[encoded data removed]"
     },
     "metadata": {},
     "output_type": "display_data"
    }
   ],
   "source": [
    "num_iters = 1000\n",
    "\n",
    "theta_final, training_his = gradient_descent(theta, X_norm, y_train, 0.3, compute_gradient, compute_cost, num_iters)\n",
    "\n",
    "plt.plot(training_his)\n",
    "plt.xlabel(\"iterations\")\n",
    "plt.ylabel(\"cost\")\n",
    "plt.title(\"cost vs iterations\")\n",
    "print(theta_final)"
   ],
   "metadata": {
    "collapsed": false,
    "ExecuteTime": {
     "end_time": "2024-08-26T13:19:05.674637500Z",
     "start_time": "2024-08-26T13:19:04.432206Z"
    }
   },
   "id": "ab6c95f074b872db"
  },
  {
   "cell_type": "markdown",
   "source": [
    "## visualizing the model's performance on training data"
   ],
   "metadata": {
    "collapsed": false
   },
   "id": "6432287834a3438c"
  },
  {
   "cell_type": "code",
   "execution_count": 338,
   "outputs": [],
   "source": [
    "def evaluate(theta, X, X_features, y, indices):\n",
    "    i0,i1 = indices\n",
    "    fig,ax = plt.subplots(1,1)\n",
    "    X_true1 = X[y == 1,i0]\n",
    "    X_true2 = X[y == 1,i1]\n",
    "    ax.scatter(X_true1[:50], X_true2[:50],c= 'b', label= \"churn\")\n",
    "    \n",
    "    X_false1 = X[y == 0,i0]\n",
    "    X_false2 = X[y_train == 0,i1]\n",
    "    ax.scatter(X_false1[:50], X_false2[:50],c= 'r', marker= 'x', label = \"not churn\")\n",
    "    ax.set_xlabel(X_features[i0])\n",
    "    ax.set_ylabel(X_features[i1])\n",
    "    ax.set_title(\"decision boundary\")\n",
    "    ax.legend()\n",
    "    \n",
    "    x0 = np.arange(min(X_true1.min(), X_false1.min()),max(X_true1.max(), X_false1.max()))\n",
    "    x1 = -(theta[i0] * x0) / theta[i1]\n",
    "    \n",
    "    ax.plot(x0,x1)\n",
    "    \n",
    "    plt.show()"
   ],
   "metadata": {
    "collapsed": false,
    "ExecuteTime": {
     "end_time": "2024-08-26T13:19:05.675629700Z",
     "start_time": "2024-08-26T13:19:05.427004200Z"
    }
   },
   "id": "2eddff81cf1517bf"
  },
  {
   "cell_type": "code",
   "execution_count": 339,
   "outputs": [
    {
     "data": {
      "text/plain": "<Figure size 640x480 with 1 Axes>",
      "image/png": "[encoded data removed]"
     },
     "metadata": {},
     "output_type": "display_data"
    }
   ],
   "source": [
    "evaluate(theta_final, X_norm, X_features, y_train, (11, 12))"
   ],
   "metadata": {
    "collapsed": false,
    "ExecuteTime": {
     "end_time": "2024-08-26T13:19:05.848169400Z",
     "start_time": "2024-08-26T13:19:05.461550800Z"
    }
   },
   "id": "abb768a59834c440"
  },
  {
   "cell_type": "code",
   "execution_count": 340,
   "outputs": [
    {
     "name": "stdout",
     "output_type": "stream",
     "text": [
      "prediction vs real value\n",
      "[[0 0]\n",
      " [0 0]\n",
      " [0 1]\n",
      " [0 0]\n",
      " [1 1]\n",
      " [1 1]\n",
      " [1 0]\n",
      " [0 0]\n",
      " [1 1]\n",
      " [0 0]\n",
      " [0 0]\n",
      " [0 0]\n",
      " [0 1]\n",
      " [0 0]\n",
      " [0 0]\n",
      " [0 0]\n",
      " [0 1]\n",
      " [1 0]\n",
      " [1 1]\n",
      " [0 0]\n",
      " [0 0]\n",
      " [0 0]\n",
      " [0 1]\n",
      " [0 1]\n",
      " [0 0]\n",
      " [0 1]\n",
      " [0 0]\n",
      " [1 0]\n",
      " [0 0]\n",
      " [0 0]\n",
      " [0 0]\n",
      " [1 1]\n",
      " [0 0]\n",
      " [1 1]\n",
      " [1 1]\n",
      " [0 0]\n",
      " [0 0]\n",
      " [0 0]\n",
      " [0 0]\n",
      " [1 0]\n",
      " [0 0]\n",
      " [1 1]\n",
      " [0 0]\n",
      " [0 0]\n",
      " [1 0]\n",
      " [0 1]\n",
      " [0 0]\n",
      " [1 1]\n",
      " [0 0]\n",
      " [1 1]]\n"
     ]
    }
   ],
   "source": [
    "preds = np.array([predict(theta_final, X_norm[i]) for i in range(X_norm.shape[0])])\n",
    "print(\"prediction vs real value\")\n",
    "print(np.concatenate((preds[:50].reshape((-1,1)), y_train[:50].reshape((-1,1))), axis= 1))"
   ],
   "metadata": {
    "collapsed": false,
    "ExecuteTime": {
     "end_time": "2024-08-26T13:19:05.870712200Z",
     "start_time": "2024-08-26T13:19:05.804163600Z"
    }
   },
   "id": "7f1f0c05fcb060a3"
  },
  {
   "cell_type": "code",
   "execution_count": 341,
   "outputs": [
    {
     "name": "stdout",
     "output_type": "stream",
     "text": [
      "precision:  0.7659651669085631\n"
     ]
    }
   ],
   "source": [
    "print(\"precision: \", (preds == y_train).sum() / preds.shape[0])"
   ],
   "metadata": {
    "collapsed": false,
    "ExecuteTime": {
     "end_time": "2024-08-26T13:19:06.286945200Z",
     "start_time": "2024-08-26T13:19:05.872713400Z"
    }
   },
   "id": "5104f2d1b9f9bed0"
  },
  {
   "cell_type": "markdown",
   "source": [
    "## function taking input from user and predicts output with the model"
   ],
   "metadata": {
    "collapsed": false
   },
   "id": "cbfd7c984b5cc817"
  },
  {
   "cell_type": "code",
   "execution_count": 353,
   "outputs": [],
   "source": [
    "def make_pred(theta, mean, std, X_features):\n",
    "    print(\"you will be asked questions about the customer\")\n",
    "    print(\"if the answer is either yes or no write 1 for yes and 0 for no\")\n",
    "    x = []\n",
    "    for feature in X_features:\n",
    "         while True:\n",
    "             try:\n",
    "                 if feature in ['MonthlyCharges', 'TotalCharges']:\n",
    "                     value = float(input(f\"enter {feature} in dollars: \"))\n",
    "                 else :\n",
    "                     if feature == \"gender\":\n",
    "                         value = float(input(f\"{feature}? 1 for male, 0 for female\"))\n",
    "                     else : \n",
    "                         value = float(input(f\"{feature}? 1 for yes, 0 for no\"))\n",
    "                     if not value in [0,1]:\n",
    "                         raise ValueError(\"input must be either 0 or 1\")\n",
    "                 x.append(value)\n",
    "                 break\n",
    "             except ValueError as e:\n",
    "                 print(e)\n",
    "                 print(f\"please enter a valid {feature}\")\n",
    "\n",
    "    sample = np.array(x)\n",
    "    sample = (sample - mean) / std\n",
    "    sample = np.append(sample, 1)\n",
    "    if predict(theta, sample):\n",
    "        print(\"The customer has a high likelihood of churning.\")\n",
    "    else :\n",
    "        print(\"The customer is at low risk of churn.\")"
   ],
   "metadata": {
    "collapsed": false,
    "ExecuteTime": {
     "end_time": "2024-08-26T14:04:21.012470200Z",
     "start_time": "2024-08-26T14:04:20.957912500Z"
    }
   },
   "id": "76239c3bc78e37f1"
  },
  {
   "cell_type": "code",
   "execution_count": 354,
   "outputs": [
    {
     "data": {
      "text/plain": "array(['gender', 'SeniorCitizen', 'Partner', 'Dependents', 'PhoneService',\n       'OnlineSecurity', 'OnlineBackup', 'DeviceProtection',\n       'TechSupport', 'StreamingTV', 'StreamingMovies', 'MonthlyCharges',\n       'TotalCharges', 'MultipleLines_Yes', 'InternetService_Fiber optic',\n       'Contract_One year', 'Contract_Two year', 'PaperlessBilling_1',\n       'PaymentMethod_Credit card (automatic)',\n       'PaymentMethod_Electronic check', 'PaymentMethod_Mailed check'],\n      dtype=object)"
     },
     "execution_count": 354,
     "metadata": {},
     "output_type": "execute_result"
    }
   ],
   "source": [
    "X_features"
   ],
   "metadata": {
    "collapsed": false,
    "ExecuteTime": {
     "end_time": "2024-08-26T14:04:23.576822600Z",
     "start_time": "2024-08-26T14:04:23.525435800Z"
    }
   },
   "id": "9b3fc8e99583fa61"
  },
  {
   "cell_type": "code",
   "execution_count": 355,
   "outputs": [
    {
     "name": "stdout",
     "output_type": "stream",
     "text": [
      "you will be asked questions about the customer\n",
      "if the answer is either yes or no write 1 for yes and 0 for no\n",
      "The customer has a high likelihood of churning.\n"
     ]
    }
   ],
   "source": [
    "make_pred(theta_final, u_m, sigma, X_features)"
   ],
   "metadata": {
    "collapsed": false,
    "ExecuteTime": {
     "end_time": "2024-08-26T14:05:05.415642200Z",
     "start_time": "2024-08-26T14:04:27.960496200Z"
    }
   },
   "id": "7405335ee8c141dd"
  },
  {
   "cell_type": "markdown",
   "source": [
    "#### to use this program you can call make_pred(theta_final, u_m, sigma, X_features)"
   ],
   "metadata": {
    "collapsed": false
   },
   "id": "216e71f2495b7653"
  }
 ],
 "metadata": {
  "kernelspec": {
   "display_name": "Python 3",
   "language": "python",
   "name": "python3"
  },
  "language_info": {
   "codemirror_mode": {
    "name": "ipython",
    "version": 2
   },
   "file_extension": ".py",
   "mimetype": "text/x-python",
   "name": "python",
   "nbconvert_exporter": "python",
   "pygments_lexer": "ipython2",
   "version": "2.7.6"
  }
 },
 "nbformat": 4,
 "nbformat_minor": 5
}
